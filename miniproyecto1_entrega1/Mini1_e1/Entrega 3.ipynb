{
 "cells": [
  {
   "cell_type": "markdown",
   "id": "57ca8ea5",
   "metadata": {
    "deletable": false,
    "editable": false,
    "nbgrader": {
     "cell_type": "markdown",
     "checksum": "c3cf29475dfe99a6112fdf33e44f1005",
     "grade": false,
     "grade_id": "cell-27de2fdd6c7c9440",
     "locked": true,
     "schema_version": 3,
     "solution": false,
     "task": false
    }
   },
   "source": [
    "# Entrega 3\n",
    "\n",
    "En esta ultima entrega del miniproyecto utilizaremos el método de segmentación mediante umbralización y realizaremos una experimentación detallada para seleccionar su método de detección final. Para esto haremos un pre-procesamiento a los canales de las imágenes basándose en lo explorado durante la primera entrega del miniproyecto y utilizando transformaciones de intensidades. Una vez tengamos el preprocesamiento implementaremos la umbralización mediante 4 estrategias diferentes. Además usando las combinacines de metodo de umbralización y preprocesamiento que consideren de mejor calidad cualitativamente haremos el procesamiento de la base de datos de validación para así tener una evaluación cualitativa. Por último, realizarán la evaluación de su mejor método en la base de datos de prueba para así obtener el desempeño de nuestra metodología."
   ]
  },
  {
   "cell_type": "markdown",
   "id": "eb437077",
   "metadata": {},
   "source": [
    "## Parte 1: Umbralización\n",
    "Al igual que en la primera entrega, umbralizaremos nuestras imagenes para obtener mascaras binarias. Sin embargo, el metodo de obtención de los umbrales será lo que varíe. Como bien sabemos existen varios metodos de umbralización, entre los cuales esta Ostu, umbralización por percentiles y umbrales arbitrarios. \n",
    "\n",
    "### Parte 1.1: Otsu\n",
    "Trabajemos primero con la umbralización Otsu para obtener mascaras binarias. Cree una función que entre como parametro una imagen y usted retorne una imagen umbralizada.\n",
    "\n",
    "**Nota**: Use los operadores > o < para umbralizar la imagen. Recuerde que las celulas segmentadas queden en 1 no en 0. La imagen de entrada de la función debe ser en escala de grises."
   ]
  },
  {
   "cell_type": "code",
   "execution_count": null,
   "id": "cd4b818c",
   "metadata": {
    "deletable": false,
    "nbgrader": {
     "cell_type": "code",
     "checksum": "430651432d1ec4d966976d23efd082c6",
     "grade": false,
     "grade_id": "cell-4b631131cb6005c4",
     "locked": false,
     "schema_version": 3,
     "solution": true,
     "task": false
    }
   },
   "outputs": [],
   "source": [
    "import numpy as np\n",
    "from skimage.filters import threshold_otsu as otsu\n",
    "import glob \n",
    "import matplotlib.pyplot as plt\n",
    "import os\n",
    "from skimage import io\n",
    "\n",
    "#compruebe que la imagen sea BloodImage_00001\n",
    "bw_img = '' # Variable que contendrá la imagen de un unico canal, use la primera imagen de la base de datos de train y el canal R\n",
    "# YOUR CODE HERE\n",
    "raise NotImplementedError()"
   ]
  },
  {
   "cell_type": "code",
   "execution_count": null,
   "id": "1e45d590",
   "metadata": {
    "deletable": false,
    "nbgrader": {
     "cell_type": "code",
     "checksum": "18503a064c9dc6998e832ae0fcb4b947",
     "grade": false,
     "grade_id": "cell-c178c2d17513e019",
     "locked": false,
     "schema_version": 3,
     "solution": true,
     "task": false
    }
   },
   "outputs": [],
   "source": [
    "def umbralizacion_otsu(im):\n",
    "    otsubin_img='' #imagen umbralizada\n",
    "    # YOUR CODE HERE\n",
    "    raise NotImplementedError()\n",
    "    return otsubin_img"
   ]
  },
  {
   "cell_type": "code",
   "execution_count": null,
   "id": "c5c6f519",
   "metadata": {
    "deletable": false,
    "editable": false,
    "nbgrader": {
     "cell_type": "code",
     "checksum": "a55e11f07c3ac37499a81df366709ab7",
     "grade": true,
     "grade_id": "cell-e6a9e183c31055e5",
     "locked": true,
     "points": 0.2,
     "schema_version": 3,
     "solution": false,
     "task": false
    }
   },
   "outputs": [],
   "source": [
    "assert len(bw_img.shape)==2,f'La imagen tiene mas dimensiones de las esperadas ({len(bw_img.shape)}). Deberían ser 2'\n",
    "assert bw_img.shape == (416,416) , f'La imagen tiene un tamaño inesperad0 {(bw_img.shape)}. Debería ser (416,416)'\n",
    "import matplotlib.pyplot as plt\n",
    "\n",
    "otsubin_img=umbralizacion_otsu(bw_img)\n",
    "\n",
    "fig,ax=plt.subplots(2)\n",
    "ax[0].imshow(bw_img,cmap='gray')\n",
    "ax[0].set_title('La imagen que usaremos')\n",
    "ax[0].axis('off')\n",
    "ax[1].imshow(otsubin_img,cmap='gray')\n",
    "ax[1].set_title('Imagen umbralizada con otsu')\n",
    "ax[1].axis('off')\n",
    "plt.show()\n",
    "\n",
    "assert np.sum(otsubin_img)<416*416/2, 'Usted umbralizó la imagen al reves'\n",
    "assert np.isclose(np.sum(otsubin_img),73358), 'El umbral de otsu es erroneo'"
   ]
  },
  {
   "cell_type": "markdown",
   "id": "8847a151",
   "metadata": {
    "deletable": false,
    "editable": false,
    "nbgrader": {
     "cell_type": "markdown",
     "checksum": "7468de66e51bc003849113988f356bf3",
     "grade": false,
     "grade_id": "cell-807841f60c0e6bc1",
     "locked": true,
     "schema_version": 3,
     "solution": false,
     "task": false
    }
   },
   "source": [
    "### Parte 1.2: Percentiles\n",
    "Otra manera en la que podemos hacer la umbralización es por medio de percentiles. Este tipo de umbralización tiene la ventaja de que mantiene siempre la cantidad de pixeles considerados dentro de la segmentación. Cabe aclarar, el percentil es unicamente el medio por el cual obtenemos el umbral, es decir, es la forma en la que obtendremos cual es nuestro punto de corte para valer las intensidades. Cree una función que entre como parametro una imagen y el percentile a usar, y usted retorne una imagen umbralizada.\n",
    "\n",
    "**Nota:** Puede usar np.precentile para obtener el umbral."
   ]
  },
  {
   "cell_type": "code",
   "execution_count": null,
   "id": "a36a1f36",
   "metadata": {
    "deletable": false,
    "nbgrader": {
     "cell_type": "code",
     "checksum": "23ac51ca4ff9801bf8f06fbd8d4dc1bc",
     "grade": false,
     "grade_id": "cell-a2494ef7d31fa9d6",
     "locked": false,
     "schema_version": 3,
     "solution": true,
     "task": false
    }
   },
   "outputs": [],
   "source": [
    "def umbralizacion_percentile(im,percentile):\n",
    "    percentilebin_img='' #imagen umbralizada\n",
    "    # YOUR CODE HERE\n",
    "    raise NotImplementedError()\n",
    "    return percentilebin_img"
   ]
  },
  {
   "cell_type": "code",
   "execution_count": null,
   "id": "04be5674",
   "metadata": {
    "deletable": false,
    "editable": false,
    "nbgrader": {
     "cell_type": "code",
     "checksum": "21f9862d486d1fd9dc8ca00df963f0fe",
     "grade": true,
     "grade_id": "cell-22d25fd5555ea042",
     "locked": true,
     "points": 0.2,
     "schema_version": 3,
     "solution": false,
     "task": false
    }
   },
   "outputs": [],
   "source": [
    "percentilebin_img=umbralizacion_percentile(bw_img,4)\n",
    "\n",
    "fig,ax=plt.subplots(2)\n",
    "ax[0].imshow(bw_img,cmap='gray')\n",
    "ax[0].set_title('La imagen que usaremos')\n",
    "ax[0].axis('off')\n",
    "ax[1].imshow(percentilebin_img,cmap='gray')\n",
    "ax[1].set_title('Imagen umbralizada con percentiles')\n",
    "ax[1].axis('off')\n",
    "plt.show()\n",
    "\n",
    "assert np.sum(percentilebin_img)<416*416/2, 'Usted umbralizó la imagen al reves'\n",
    "assert np.isclose(np.sum(percentilebin_img),6717), 'El umbral del percentile es erroneo'"
   ]
  },
  {
   "cell_type": "markdown",
   "id": "a5b27c89",
   "metadata": {},
   "source": [
    "### Parte 1.3: Umbrales arbitrarios\n",
    "Por ultimo, los umbrales puede ser seleccionados de forma arbitraria con la información que tenemos disponible. Aqui nos vamos a poder apoyar de gran manera de la información que nos da el histograma de intensidades de la imagen para poder determinar el umbral que vamos a usar, además de la condicion (mayor o menor que). Cree una función que entre como parametro una imagen y el umbral a usar, y usted retorne una imagen umbralizada."
   ]
  },
  {
   "cell_type": "code",
   "execution_count": null,
   "id": "66d05cac",
   "metadata": {
    "deletable": false,
    "nbgrader": {
     "cell_type": "code",
     "checksum": "3708ff41e9a978e0f56d5aa13eb51665",
     "grade": false,
     "grade_id": "cell-48fb1eb7ee978741",
     "locked": false,
     "schema_version": 3,
     "solution": true,
     "task": false
    }
   },
   "outputs": [],
   "source": [
    "def umbralizacion_arbitrario(im,umbral):\n",
    "    arbitrarybin_img='' #imagen umbralizada\n",
    "    # YOUR CODE HERE\n",
    "    raise NotImplementedError()\n",
    "    return arbitrarybin_img"
   ]
  },
  {
   "cell_type": "code",
   "execution_count": null,
   "id": "794ee3e3",
   "metadata": {
    "deletable": false,
    "editable": false,
    "nbgrader": {
     "cell_type": "code",
     "checksum": "1caee514b2513abbbce8dafadf1135ee",
     "grade": true,
     "grade_id": "cell-def00d90a640ad24",
     "locked": true,
     "points": 0.2,
     "schema_version": 3,
     "solution": false,
     "task": false
    }
   },
   "outputs": [],
   "source": [
    "arbitrarybin_img=umbralizacion_arbitrario(bw_img,170)\n",
    "\n",
    "fig,ax=plt.subplots(2)\n",
    "ax[0].imshow(bw_img,cmap='gray')\n",
    "ax[0].set_title('La imagen que usaremos')\n",
    "ax[0].axis('off')\n",
    "ax[1].imshow(arbitrarybin_img,cmap='gray')\n",
    "ax[1].set_title('Imagen umbralizada con umbrales arbitrarios')\n",
    "ax[1].axis('off')\n",
    "plt.show()\n",
    "\n",
    "assert np.sum(arbitrarybin_img)<416*416/2, 'Usted umbralizó la imagen al reves'\n",
    "assert np.isclose(np.sum(arbitrarybin_img),14952), 'El umbral del percentile es erroneo'"
   ]
  },
  {
   "cell_type": "markdown",
   "id": "8dca9973",
   "metadata": {},
   "source": [
    "## Parte 2: Predicciones\n",
    "Ahora que tenemos un metodo de umbralización vamos a generar un archivo .json de predicciones. \n",
    "\n",
    "### Parte 2.1: Diccionario\n",
    "Primero, generaremos un diccionario de predicción antes de generar un .json. Cree una función que reciba por parametro una imagen, un image_id, un metodo de segmentación y un dato adicional, y retorne un diccionario con las llaves image_id, category_id ,bbox y score. Use la función implementada en la Entrega 2 de ventana deslizante para obtener una bbox a partir de una imagen umbralizada (use un umbral de 1000 y un tamaño de 104x104) El score será el **porcentaje** de True dentro de la ventana de detección."
   ]
  },
  {
   "cell_type": "code",
   "execution_count": null,
   "id": "dfd00bfa",
   "metadata": {
    "deletable": false,
    "nbgrader": {
     "cell_type": "code",
     "checksum": "8b2787fe403b5afc96c01d632ae33bf9",
     "grade": false,
     "grade_id": "cell-b0fb6dd7f350fd08",
     "locked": false,
     "schema_version": 3,
     "solution": true,
     "task": false
    }
   },
   "outputs": [],
   "source": [
    "def Ventana_delizante(mask,tamano,umbral):\n",
    "    'mask (ndarray): Mascara binaria'\n",
    "    'tamano (tupla): Tamaño en filas,columnas del cuadrante'\n",
    "    'umbral (int): cantidad de True para determinar positivo'\n",
    "    # YOUR CODE HERE\n",
    "    raise NotImplementedError()\n",
    "    return X,Y,W,H"
   ]
  },
  {
   "cell_type": "code",
   "execution_count": null,
   "id": "c4910099",
   "metadata": {
    "deletable": false,
    "nbgrader": {
     "cell_type": "code",
     "checksum": "3197891e02bcb3df0d2e04cc7316f758",
     "grade": false,
     "grade_id": "cell-ff9b794937c7c075",
     "locked": false,
     "schema_version": 3,
     "solution": true,
     "task": false
    }
   },
   "outputs": [],
   "source": [
    "def diccionario_prediccion(image,image_id,segmentation_method,dato=None):\n",
    "    'image (ndarray): Imagen de entrada de 1 canal'\n",
    "    'image_id (int): Identificador de la imagen'\n",
    "    'segmentation_method (str): Puede ser \"otsu\", \"percentile\" o \"arbitrario\"'\n",
    "    'dato (int or None): Si se requiere un dato adicional como en la función percentile o arbitrario, este parametró será el umbral o el percentil'\n",
    "    dict_deteccion={} #diccionario de prediccion\n",
    "    # YOUR CODE HERE\n",
    "    raise NotImplementedError()\n",
    "    return dict_deteccion"
   ]
  },
  {
   "cell_type": "code",
   "execution_count": null,
   "id": "fbdf79ef",
   "metadata": {
    "deletable": false,
    "editable": false,
    "nbgrader": {
     "cell_type": "code",
     "checksum": "ce602f178b7d1eeed53d6a0d90d298e9",
     "grade": true,
     "grade_id": "cell-85804bb4ea40ae58",
     "locked": true,
     "points": 0.4,
     "schema_version": 3,
     "solution": false,
     "task": false
    }
   },
   "outputs": [],
   "source": [
    "import json\n",
    "import cv2\n",
    "\n",
    "with open(os.path.join('data_mp1','BCCD','train','_annotations.coco.json'),'rb') as f:\n",
    "    anots=json.load(f)\n",
    "\n",
    "im_name=anots['images'][0]['file_name']\n",
    "id_image=anots['images'][0]['id']\n",
    "path=os.path.join('.','data_mp1','BCCD','train',im_name)\n",
    "image=io.imread(path)\n",
    "dict_predict=diccionario_prediccion(image[:,:,0],id_image,'otsu')\n",
    "\n",
    "assert type(dict_predict)==dict, 'El dict_predict deberia ser un diccionario'\n",
    "assert 'image_id' in dict_predict.keys(), 'El diccionario de detección no tiene la llave \"image_id\"'\n",
    "assert 'category_id' in dict_predict.keys(), 'El diccionario de detección no tiene la llave \"category_id\"'\n",
    "assert 'bbox' in dict_predict.keys(), 'El diccionario de detección no tiene la llave \"bbox\"'\n",
    "assert 'score' in dict_predict.keys(), 'El diccionario de detección no tiene la llave \"score\"'\n",
    "assert dict_predict['score'] >=0 and dict_predict['score'] <=1, 'El score debe estar entre 0 y 1'\n",
    "assert len(dict_predict['bbox'])==4, 'La bbox deberia tener 4 valores'\n",
    "\n",
    "X,Y,W,H= dict_predict['bbox']\n",
    "mask=umbralizacion_otsu(image)\n",
    "assert np.isclose(np.sum(mask[Y:Y+W,X:X+H])/(H*W),dict_predict['score']), 'El score está mal calculado, puede que ester usando las filas como columnas y viseversa'\n",
    "assert W==104 and H==104, 'El tamaño de la caja es erroneo'\n",
    "#assert np.isclose(X,115), 'Hay un error en la detección'\n",
    "#assert np.isclose(Y,250), 'Hay un error en la detección'\n",
    "\n",
    "plt.imshow(cv2.rectangle(image,(X,Y),(X+W,Y+H),(255,0,0),3))\n",
    "plt.axis('off')\n",
    "plt.show()"
   ]
  },
  {
   "cell_type": "markdown",
   "id": "29f99dde",
   "metadata": {
    "deletable": false,
    "editable": false,
    "nbgrader": {
     "cell_type": "markdown",
     "checksum": "09d903d44c9419fe79136489fc62e25c",
     "grade": false,
     "grade_id": "cell-482e948204220e5f",
     "locked": true,
     "schema_version": 3,
     "solution": false,
     "task": false
    }
   },
   "source": [
    "### Parte 2.2: Prediccion .json\n",
    "Ahora, debemos recorrer toda nuestra base de datos para generar una predicción completa y utilizar nuestras funciones de metricas implementada en la Entrega 2. Cree una función que reciba por parametro el nombre del fold, el metodo de segmentación, el parametro adicional dato. Esta función debe retornar una lista de diccionarios, use la función implementada en el 2.1 de forma iterativa.\n",
    "\n",
    "> - Debe recordar que cada imagen tiene su nombre y su image_id, la detección debe corresponderse con su imagen, tenga cuidado de no asignar una deteccion a una imagen que no le corresponde. **Pista:** Solo neceesita usar la llave \"images\" del .json de la anotacion.\n",
    "> - El parametro fold indica cual prediccion se va a hacer, lea las anotaciones del correspondiente fold unicamente para obtener el nombre de las imagenes y su correspondiente image_id."
   ]
  },
  {
   "cell_type": "code",
   "execution_count": null,
   "id": "bd359774",
   "metadata": {
    "deletable": false,
    "nbgrader": {
     "cell_type": "code",
     "checksum": "49ec6f36e0b7bb17f2025715accad6e7",
     "grade": false,
     "grade_id": "cell-0174556ec5882b6d",
     "locked": false,
     "schema_version": 3,
     "solution": true,
     "task": false
    }
   },
   "outputs": [],
   "source": [
    "def prediccion_total(fold,segmentation_method,dato=None):\n",
    "    'fold (str): Puede ser \"train\", \"valid\" o \"test\"'\n",
    "    'segmentation_method (str): Puede ser \"otsu\", \"percentile\" o \"arbitrario\"'\n",
    "    'dato (int or None): Si se requiere un dato adicional como en la función percentile o arbitrario, este parametró será el umbral o el percentil'\n",
    "    list_predict=[] #lista de diccionarios de prediccion\n",
    "    # YOUR CODE HERE\n",
    "    raise NotImplementedError()\n",
    "    return list_predict"
   ]
  },
  {
   "cell_type": "code",
   "execution_count": null,
   "id": "7ec076db",
   "metadata": {
    "deletable": false,
    "editable": false,
    "nbgrader": {
     "cell_type": "code",
     "checksum": "c08fa4fe63ea443b0cb8cde1ac964b59",
     "grade": false,
     "grade_id": "cell-1d63685cf8f2b1ba",
     "locked": true,
     "schema_version": 3,
     "solution": false,
     "task": false
    }
   },
   "outputs": [],
   "source": [
    "list_predict=prediccion_total('train','otsu')"
   ]
  },
  {
   "cell_type": "code",
   "execution_count": null,
   "id": "f4edbb70",
   "metadata": {
    "deletable": false,
    "editable": false,
    "nbgrader": {
     "cell_type": "code",
     "checksum": "ee52e35c81f4643eaf7ec68a81e44992",
     "grade": true,
     "grade_id": "cell-bd2a0c574aa357e7",
     "locked": true,
     "points": 0.3,
     "schema_version": 3,
     "solution": false,
     "task": false
    }
   },
   "outputs": [],
   "source": [
    "assert type(list_predict) ==list, 'Las detecciones deberian ser una lista de diccionarios'\n",
    "assert type(list_predict[0])==dict, 'Los elementos de la lista deberian ser diccionarios'\n",
    "assert len(list_predict)==len(anots['images']), 'Su lista de predicciones debe ser igual a la cantidad de imagenes'\n",
    "\n",
    "id_image=anots['images'][0]['id']\n",
    "for i in range(len(list_predict)):\n",
    "    if list_predict[i]['image_id']==id_image:\n",
    "        im_name=anots['images'][i]['file_name']\n",
    "        dict_predict=list_predict[i]\n",
    "\n",
    "for i in anots['annotations']:\n",
    "    if i['image_id']==id_image and i['category_id']==3:\n",
    "        dict_anot=i\n",
    "path=os.path.join('.','data_mp1','BCCD','train',im_name)\n",
    "image=io.imread(path)\n",
    "X,Y,W,H= dict_predict['bbox']\n",
    "\n",
    "x,y,w,h=dict_anot['bbox']\n",
    "\n",
    "fig,ax=plt.subplots(1,2)\n",
    "ax[0].imshow(cv2.rectangle(image,(X,Y),(X+W,Y+H),(255,0,0),3))\n",
    "ax[0].axis('off')\n",
    "ax[0].set_title('Predicción')\n",
    "path=os.path.join('.','data_mp1','BCCD','train',im_name)\n",
    "image=io.imread(path)\n",
    "ax[1].imshow(cv2.rectangle(image,(x,y),(int(x+w),int(y+h)),(255,0,0),3))\n",
    "ax[1].axis('off')\n",
    "ax[1].set_title('Anotación')\n",
    "plt.show()"
   ]
  },
  {
   "cell_type": "markdown",
   "id": "bb168e56",
   "metadata": {
    "deletable": false,
    "editable": false,
    "nbgrader": {
     "cell_type": "markdown",
     "checksum": "57826bfd138180741c0bbec9da15b3cc",
     "grade": false,
     "grade_id": "cell-213b375d94aabdf1",
     "locked": true,
     "schema_version": 3,
     "solution": false,
     "task": false
    }
   },
   "source": [
    "## Parte 3: Metricas\n",
    "Ya que tenemos una lista de predicciones es momento de calcular la efectividad de nuestro modelo. Continuaremos usando como nuestro baseline la umbralización otsu. Recuerde que las metricas se deben calcular en el fold de validación. Copie las funciones de la Entrega 2 para el calculo de las curvas de precisión y cobertura junto con el mAP y calcule estas metricas para el baseline."
   ]
  },
  {
   "cell_type": "code",
   "execution_count": null,
   "id": "d525c836",
   "metadata": {
    "deletable": false,
    "nbgrader": {
     "cell_type": "code",
     "checksum": "ac85109c36e1aa4e7776e89fb8049595",
     "grade": false,
     "grade_id": "cell-30691adf9e9f0c86",
     "locked": false,
     "schema_version": 3,
     "solution": true,
     "task": false
    }
   },
   "outputs": [],
   "source": [
    "list_val_predict='' #Lista de predicciones para el fold valid usando el baseline\n",
    "# YOUR CODE HERE\n",
    "raise NotImplementedError()"
   ]
  },
  {
   "cell_type": "code",
   "execution_count": null,
   "id": "9c094852",
   "metadata": {
    "deletable": false,
    "nbgrader": {
     "cell_type": "code",
     "checksum": "2b7cf7a4e1524ab8371d4724d3d2d6a8",
     "grade": false,
     "grade_id": "cell-54ff9a2a62bec991",
     "locked": false,
     "schema_version": 3,
     "solution": true,
     "task": false
    }
   },
   "outputs": [],
   "source": [
    "def bounding_box(X,Y,W,H): #modifique esta función, si algun valor es None retorne un arreglo de zeros\n",
    "    # YOUR CODE HERE\n",
    "    raise NotImplementedError()\n",
    "    return A\n",
    "\n",
    "def evaluacion(anotacion_dict,prediccion_dict,j_umbral,c_umbral):\n",
    "    metricas='' # arreglo de metricas [TP,FP,FN]\n",
    "    # YOUR CODE HERE\n",
    "    raise NotImplementedError()\n",
    "    return metricas  \n",
    "\n",
    "def Metricas(anotaciones,predicciones,j_umbral,c_umbral):\n",
    "    # YOUR CODE HERE\n",
    "    raise NotImplementedError()\n",
    "    return P,C,F\n",
    "\n",
    "def Curvas_P_C(anotaciones,predicciones,jaccard):\n",
    "    # YOUR CODE HERE\n",
    "    raise NotImplementedError()\n",
    "    return Pr,Co,F,umbral\n",
    "\n",
    "def mAP(precision,cobertura):\n",
    "    'precisión: Arreglo de precisión'\n",
    "    'cobertura: Arreglo de cobertura'\n",
    "    A=0\n",
    "    for i in range(len(cobertura)-1):\n",
    "        A+=(cobertura[i]-cobertura[i+1])*precision[i]\n",
    "    return A"
   ]
  },
  {
   "cell_type": "code",
   "execution_count": null,
   "id": "21045082",
   "metadata": {
    "deletable": false,
    "editable": false,
    "nbgrader": {
     "cell_type": "code",
     "checksum": "5259120003bbc084060b839b44994370",
     "grade": false,
     "grade_id": "cell-fb6a6a7198714ff2",
     "locked": true,
     "schema_version": 3,
     "solution": false,
     "task": false
    }
   },
   "outputs": [],
   "source": [
    "with open(os.path.join('data_mp1','BCCD','valid','_annotations.coco.json'),'rb') as f:\n",
    "    anots=json.load(f)\n",
    "    \n",
    "p=np.arange(0.0001,1.0001,0.0001)\n",
    "for f in np.arange(0.0,1.2,0.1): #saltos de 0.1 desde una F medida de 0 hasta una F medida de 1\n",
    "    aux=np.zeros(len(p))\n",
    "    for i in range(len(p)):\n",
    "        k=(2*p[i]-f)\n",
    "        if k>0.001:\n",
    "            c=f*p[i]/k\n",
    "            aux[i]=c\n",
    "    c=np.copy(aux)\n",
    "    c=c*(c<=1)\n",
    "    l2=np.where(c!=0)[0]\n",
    "    C=c[l2]\n",
    "    P=p[l2]\n",
    "    plt.plot(C,P,'r--')\n",
    "Pr1,Co1,F1,umbral1=Curvas_P_C(anots,list_val_predict,0.4)\n",
    "Pr2,Co2,F2,umbral2=Curvas_P_C(anots,list_val_predict,0.3)\n",
    "Pr3,Co3,F3,umbral3=Curvas_P_C(anots,list_val_predict,0.2)\n",
    "plt.plot(Co1,Pr1,label='J=0.4')\n",
    "plt.plot(Co2,Pr2,label='J=0.3')\n",
    "plt.plot(Co3,Pr3,label='J=0.2')\n",
    "plt.xlabel('Cobertura')\n",
    "plt.ylabel('Precision')\n",
    "plt.legend()\n",
    "plt.show()\n",
    "\n",
    "mAP_04=mAP(Pr1,Co1)\n",
    "mAP_03=mAP(Pr2,Co2)\n",
    "mAP_02=mAP(Pr3,Co3)\n",
    "\n",
    "print(f'J=0.4, mAP= {mAP_04}')\n",
    "print(f'J=0.3, mAP= {mAP_03}')\n",
    "print(f'J=0.2, mAP= {mAP_02}')"
   ]
  },
  {
   "cell_type": "code",
   "execution_count": null,
   "id": "eea861d5",
   "metadata": {
    "deletable": false,
    "editable": false,
    "nbgrader": {
     "cell_type": "code",
     "checksum": "7b860ef82f7bd8ad0c0ec7bf59f4cf04",
     "grade": false,
     "grade_id": "cell-59b4f344f76af188",
     "locked": true,
     "schema_version": 3,
     "solution": false,
     "task": false
    }
   },
   "outputs": [],
   "source": [
    "def view_pred(num_im,fold,list_predict):\n",
    "    with open(os.path.join('data_mp1','BCCD',fold,'_annotations.coco.json'),'rb') as f:\n",
    "        anots=json.load(f)\n",
    "    id_image=anots['images'][num_im]['id']\n",
    "    for i in range(len(list_predict)):\n",
    "        if list_predict[i]['image_id']==id_image:\n",
    "            im_name=anots['images'][i]['file_name']\n",
    "            dict_predict=list_predict[i]\n",
    "\n",
    "    for i in anots['annotations']:\n",
    "        if i['image_id']==id_image and i['category_id']==3:\n",
    "            dict_anot=i\n",
    "    path=os.path.join('.','data_mp1','BCCD',fold,im_name)\n",
    "    image=io.imread(path)\n",
    "    X,Y,W,H= dict_predict['bbox']\n",
    "    x,y,w,h=dict_anot['bbox']\n",
    "    anotacion=bounding_box(x,y,w,h)\n",
    "    prediccion=bounding_box(X,Y,W,H)\n",
    "    Interseccion=np.sum(anotacion*prediccion)\n",
    "    Union=np.sum(anotacion)+np.sum(prediccion)-Interseccion\n",
    "    J=Interseccion/Union\n",
    "    print(J)\n",
    "    fig,ax=plt.subplots(1,2)\n",
    "    ax[0].imshow(cv2.rectangle(image,(X,Y),(X+W,Y+H),(255,0,0),3))\n",
    "    ax[0].axis('off')\n",
    "    ax[0].set_title('Predicción')\n",
    "    path=os.path.join('.','data_mp1','BCCD',fold,im_name)\n",
    "    image=io.imread(path)\n",
    "    ax[1].imshow(cv2.rectangle(image,(x,y),(int(x+w),int(y+h)),(255,0,0),3))\n",
    "    ax[1].axis('off')\n",
    "    ax[1].set_title('Anotación')\n",
    "    plt.show()"
   ]
  },
  {
   "cell_type": "code",
   "execution_count": null,
   "id": "08cae977",
   "metadata": {
    "deletable": false,
    "editable": false,
    "nbgrader": {
     "cell_type": "code",
     "checksum": "0e2c895abe8fe24344e7097146cc695b",
     "grade": false,
     "grade_id": "cell-472154e03fcc180a",
     "locked": true,
     "schema_version": 3,
     "solution": false,
     "task": false
    }
   },
   "outputs": [],
   "source": [
    "view_pred(1,'valid',list_val_predict)"
   ]
  },
  {
   "cell_type": "code",
   "execution_count": null,
   "id": "16497f1c",
   "metadata": {
    "deletable": false,
    "editable": false,
    "nbgrader": {
     "cell_type": "code",
     "checksum": "d4e6e71078d651985af8d4acc5d1ce0e",
     "grade": false,
     "grade_id": "cell-ed8f0caf5fb13bda",
     "locked": true,
     "schema_version": 3,
     "solution": false,
     "task": false
    }
   },
   "outputs": [],
   "source": [
    "view_pred(4,'valid',list_val_predict)"
   ]
  },
  {
   "cell_type": "code",
   "execution_count": null,
   "id": "4152aef3",
   "metadata": {
    "deletable": false,
    "editable": false,
    "nbgrader": {
     "cell_type": "code",
     "checksum": "f76efdbbab6b0360a9257bf1856fc0ef",
     "grade": false,
     "grade_id": "cell-1935d2934d47e932",
     "locked": true,
     "schema_version": 3,
     "solution": false,
     "task": false
    }
   },
   "outputs": [],
   "source": [
    "view_pred(31,'valid',list_val_predict)"
   ]
  },
  {
   "cell_type": "markdown",
   "id": "fb458382",
   "metadata": {
    "deletable": false,
    "editable": false,
    "nbgrader": {
     "cell_type": "markdown",
     "checksum": "61ed9d8861d9b0de0f54db6cdc5e4f9b",
     "grade": false,
     "grade_id": "cell-1996b47b1d3da977",
     "locked": true,
     "schema_version": 3,
     "solution": false,
     "task": false
    }
   },
   "source": [
    "## Parte 4: Preprocesamiento \n",
    "\n",
    "Ahora, haremos un paso importante para la solución de un problema en la visión por computador, el cual es el pre-procesamiento. Aquí harán transformaciones a los diferentes canales para preparar las imágenes para hacer la segmentación de la formas mas fácil y precisa. Inicialmente lo que haremos será importar una imágen cualquiera y la guardaremos en una variable para usarla mas adelante en las pruebas que haremos para cada tipo de preprocesamiento."
   ]
  },
  {
   "cell_type": "code",
   "execution_count": null,
   "id": "b643efc3",
   "metadata": {
    "deletable": false,
    "nbgrader": {
     "cell_type": "code",
     "checksum": "5407319baf55a4de850105ce5dfb0c36",
     "grade": false,
     "grade_id": "cell-e4af30df3e78f9a",
     "locked": false,
     "schema_version": 3,
     "solution": true,
     "task": false
    }
   },
   "outputs": [],
   "source": [
    "bw_img = '' # Variable que contendrá la imagen de un unico canal\n",
    "# YOUR CODE HERE\n",
    "raise NotImplementedError()"
   ]
  },
  {
   "cell_type": "code",
   "execution_count": null,
   "id": "1abc1abb",
   "metadata": {
    "deletable": false,
    "editable": false,
    "nbgrader": {
     "cell_type": "code",
     "checksum": "1f122399c242b6b24f225bace0a35a8b",
     "grade": true,
     "grade_id": "cell-c66d1b92854be5a",
     "locked": true,
     "points": 0.1,
     "schema_version": 3,
     "solution": false,
     "task": false
    }
   },
   "outputs": [],
   "source": [
    "assert len(bw_img.shape)==2,f'La imagen tiene mas dimensiones de las esperadas ({len(bw_img.shape)}). Deberían ser 2'\n",
    "assert bw_img.shape == (416,416) , f'La imagen tiene un tamaño inesperad0 {(bw_img.shape)}. Debería ser (416,416)'\n",
    "import matplotlib.pyplot as plt\n",
    "plt.imshow(bw_img,cmap='gray')\n",
    "plt.title('la imagen que usaremos')\n",
    "plt.axis('off')\n",
    "plt.show()"
   ]
  },
  {
   "cell_type": "markdown",
   "id": "c282307f",
   "metadata": {
    "deletable": false,
    "editable": false,
    "nbgrader": {
     "cell_type": "markdown",
     "checksum": "932c9eb2afc41c46f7df704f67f14cf8",
     "grade": false,
     "grade_id": "cell-35f79e49b822b0b1",
     "locked": true,
     "schema_version": 3,
     "solution": false,
     "task": false
    }
   },
   "source": [
    "### 4.1 Transformación gamma\n",
    "En primer lugar, realizarán un pre-procesamiento utilizando la transformación gamma. Para esto deben\n",
    "realizar la transformación usando 4 valores de gamma diferentes. Para esto haremos una función que realice la transformación gamma recibiendo tanto la imagen como el gamma con el que realizaremos la tranformación.\n",
    "> **consejo:** recuerde que la transformación gamma inevitablemente realizará un cambio en el rango de intensidades de la imagen al esta estar entre 0 y 255. Antes de realizar la tranformación cambien el rango de [0,255] a [0,1]"
   ]
  },
  {
   "cell_type": "code",
   "execution_count": null,
   "id": "fc720c9f",
   "metadata": {
    "deletable": false,
    "nbgrader": {
     "cell_type": "code",
     "checksum": "c2c8d1ec53288864c43d18e5cedca5c0",
     "grade": false,
     "grade_id": "cell-97486083f38d8e30",
     "locked": false,
     "schema_version": 3,
     "solution": true,
     "task": false
    }
   },
   "outputs": [],
   "source": [
    "def gamma_trans(image,gamma):\n",
    "    # YOUR CODE HERE\n",
    "    raise NotImplementedError()\n",
    "    return new_img"
   ]
  },
  {
   "cell_type": "code",
   "execution_count": null,
   "id": "e7e75c88",
   "metadata": {
    "deletable": false,
    "editable": false,
    "nbgrader": {
     "cell_type": "code",
     "checksum": "1235f5ae1db95c661c3e57d86515c148",
     "grade": true,
     "grade_id": "cell-95d13ab760868f01",
     "locked": true,
     "points": 0.2,
     "schema_version": 3,
     "solution": false,
     "task": false
    }
   },
   "outputs": [],
   "source": [
    "tgamma_img = gamma_trans(bw_img,2)\n",
    "import numpy as np\n",
    "assert np.min(tgamma_img)>=0, f'el limite inferior del rango de la imagen es negativo ({np.min(tgamma_img)})'\n",
    "assert np.max(tgamma_img)<=1, f'el limite inferior del rango de la imagen es mayor a 1 ({np.max(tgamma_img)})'\n",
    "plt.imshow(tgamma_img,cmap='gray')\n",
    "plt.title('Imagen alterada mediante el uso de transformacion gamma = 2')\n",
    "plt.axis('off')\n",
    "plt.show()"
   ]
  },
  {
   "cell_type": "markdown",
   "id": "68700875",
   "metadata": {
    "deletable": false,
    "editable": false,
    "nbgrader": {
     "cell_type": "markdown",
     "checksum": "3d99cbb0181cc9c30c2d553a7c466ac9",
     "grade": false,
     "grade_id": "cell-4e08fbb6543b5334",
     "locked": true,
     "schema_version": 3,
     "solution": false,
     "task": false
    }
   },
   "source": [
    "Inicialmente usarán un valor de gamma mayor a 1 y un valor de gamma menor a 1. Esto con el fin de ver visualmente cual de los dos tipos de gamma son los que mas nos conviene segun el canal que hayamos escogido. Para poder observar las diferencias y el rango asi como las intensidades vamos a graficar tanto la imagen en sí como el histograma de las intensidades. Para esto realicen un **unico subplot** que muestre en cada fila la misma imagen con los diferentes gammas, donde en la primera columna cuenten con la imagen transformada y en la segunda el histograma de dicha imagen. "
   ]
  },
  {
   "cell_type": "code",
   "execution_count": null,
   "id": "bcaf829b",
   "metadata": {},
   "outputs": [],
   "source": []
  },
  {
   "cell_type": "markdown",
   "id": "e97c0ba9",
   "metadata": {
    "deletable": false,
    "editable": false,
    "nbgrader": {
     "cell_type": "markdown",
     "checksum": "605adcf621fbac2dc1665a777a4d4eb5",
     "grade": false,
     "grade_id": "cell-de9fca36dd1ce50b",
     "locked": true,
     "schema_version": 3,
     "solution": false,
     "task": false
    }
   },
   "source": [
    "Ahora que ya revisamos cual rango de gammas es el que mas nos conviene para nuestro canal escogido vamos a hacer la busqueda del gamma que mejor tarea haga. Por esto encontraremos 3 gammas mas, ademas del valor que escogimos inicialmente. Para esto realizaremos una figura similar a la que hicimos anteriormente, unicamente con mas filas, por lo que debe tener 4 filas y 2 columnas. Donde la primera columna corresponde a la imagen transformada y la segunda a un histograma. "
   ]
  },
  {
   "cell_type": "code",
   "execution_count": null,
   "id": "c2cd890c",
   "metadata": {},
   "outputs": [],
   "source": []
  },
  {
   "cell_type": "markdown",
   "id": "e31cb1c5",
   "metadata": {},
   "source": [
    "### 4.2 Ecualización\n",
    "Otra en la que podremos realizar una transofrmación de intensidad es por medio de la ecualización. En esta como ya saben buscaremos distribuir las intensidades de forma que nos acerquemos a un histograma constante. Para esto haremos uso de la implementación de scikit image para hacer esta aplicación. Ahora, transformemos la imagen que usamos de ejemplo para este proposito. Use 256 bins.\n",
    "https://scikit-image.org/docs/dev/api/skimage.exposure.html#skimage.exposure.equalize_hist"
   ]
  },
  {
   "cell_type": "code",
   "execution_count": null,
   "id": "82898926",
   "metadata": {
    "deletable": false,
    "nbgrader": {
     "cell_type": "code",
     "checksum": "6e291490faa17dd7d46dad4845de8ff6",
     "grade": false,
     "grade_id": "cell-f03d70c834f262",
     "locked": false,
     "schema_version": 3,
     "solution": true,
     "task": false
    }
   },
   "outputs": [],
   "source": [
    "tequ_img = '' # Variable que contendrá la imagen alterada usando la ecualización\n",
    "# YOUR CODE HERE\n",
    "raise NotImplementedError()"
   ]
  },
  {
   "cell_type": "code",
   "execution_count": null,
   "id": "b87669a3",
   "metadata": {
    "deletable": false,
    "editable": false,
    "nbgrader": {
     "cell_type": "code",
     "checksum": "a24f307fcff52805d0b113ef28e1cc3b",
     "grade": true,
     "grade_id": "cell-fe09feb9ddc27d1d",
     "locked": true,
     "points": 0.2,
     "schema_version": 3,
     "solution": false,
     "task": false
    }
   },
   "outputs": [],
   "source": [
    "assert np.min(tequ_img)>=0, f'el limite inferior del rango de la imagen es negativo ({np.min(tequ_img)})'\n",
    "assert np.max(tequ_img)<=1, f'el limite inferior del rango de la imagen es mayor a 1 ({np.max(tequ_img)})'\n",
    "plt.imshow(tequ_img,cmap='gray')\n",
    "plt.title('Imagen alterada mediante ecualización')\n",
    "plt.axis('off')\n",
    "plt.show()"
   ]
  },
  {
   "cell_type": "markdown",
   "id": "8a64c6bc",
   "metadata": {},
   "source": [
    "### 4.3 Especificación\n",
    "La ultima manera en la que podemos realizar el preprocesamiento es por medio de especificación. Aqui lo mas importante va a ser la escogencia de una imagen objetivo que consideremos nos sirva. Esta imagen deben descargarla de internet, es decir, no deben tenerla en sus archivos locales pues no será descargada al momento de verificar. En la siguiente celda alteren la imagen que tenemos para coincidir con el histograma especificado.\n",
    "https://scikit-image.org/docs/dev/api/skimage.exposure.html#skimage.exposure.match_histograms"
   ]
  },
  {
   "cell_type": "code",
   "execution_count": null,
   "id": "cd6debf0",
   "metadata": {
    "deletable": false,
    "nbgrader": {
     "cell_type": "code",
     "checksum": "238be532c0dfd947ff91cb1cfb446db5",
     "grade": false,
     "grade_id": "cell-20fc1d940f700a",
     "locked": false,
     "schema_version": 3,
     "solution": true,
     "task": false
    }
   },
   "outputs": [],
   "source": [
    "tesp_img = '' # Variable que contendrá la imagen alterada usando la ecualización1\n",
    "# YOUR CODE HERE\n",
    "raise NotImplementedError()\n",
    "\n"
   ]
  },
  {
   "cell_type": "code",
   "execution_count": null,
   "id": "24aaa4fd",
   "metadata": {
    "deletable": false,
    "editable": false,
    "nbgrader": {
     "cell_type": "code",
     "checksum": "a0a17c2cfd3f78d201189aed7e0f7a6c",
     "grade": true,
     "grade_id": "cell-fe09febddc27d1d",
     "locked": true,
     "points": 0.2,
     "schema_version": 3,
     "solution": false,
     "task": false
    }
   },
   "outputs": [],
   "source": [
    "assert np.min(tesp_img)>=0, f'el limite inferior del rango de la imagen es negativo ({np.min(tesp_img)})'\n",
    "assert np.max(tesp_img)<=1, f'el limite inferior del rango de la imagen es mayor a 1 ({np.max(tesp_img)})'\n",
    "plt.imshow(tesp_img,cmap='gray')\n",
    "plt.title('Imagen alterada mediante especificacion')\n",
    "plt.axis('off')\n",
    "plt.show()"
   ]
  },
  {
   "cell_type": "markdown",
   "id": "ab8dd5eb",
   "metadata": {
    "deletable": false,
    "editable": false,
    "nbgrader": {
     "cell_type": "markdown",
     "checksum": "39c70ea313623c75d2d115fee6594ee0",
     "grade": false,
     "grade_id": "cell-207d154b105b2",
     "locked": true,
     "schema_version": 3,
     "solution": false,
     "task": false
    }
   },
   "source": [
    "### 4.4: Preprocesamiento en base de datos\n",
    "\n",
    "Ahora que sabemos como hacer el preprocesamiento, agregaremos esta posibilidad en nuestra función de prediccion_total. Agregue a su función un parametro de preproc para realizar el preprocesamiento a todas las imagenes de entrada."
   ]
  },
  {
   "cell_type": "code",
   "execution_count": null,
   "id": "cd1e9d97",
   "metadata": {
    "deletable": false,
    "nbgrader": {
     "cell_type": "code",
     "checksum": "e97c51565c99740b68366e297d81475b",
     "grade": false,
     "grade_id": "cell-11dbe84d7204e",
     "locked": false,
     "schema_version": 3,
     "solution": true,
     "task": false
    }
   },
   "outputs": [],
   "source": [
    "from skimage.exposure import equalize_hist\n",
    "import requests\n",
    "from skimage.exposure import match_histograms\n",
    "\n",
    "def prediccion_total(fold,segmentation_method,preproc=None,gamma=None,image_objetivo=None,dato=None):\n",
    "    'fold (str): Puede ser \"train\", \"valid\" o \"test\"'\n",
    "    'segmentation_method (str): Puede ser \"otsu\", \"percentile\" o \"arbitrario\"'\n",
    "    'preproc (str): puede ser \"gamma\", \"ecualizacion\" o \"especificacion\"'\n",
    "    'gamma (int): Si preproc es \"gamma\" este debe ser un int no un None'\n",
    "    'image_objetivo (ndarray): Si preproc es \"especificacion\" este debe ser una imagen no un None'\n",
    "    'dato (int or None): Si se requiere un dato adicional como en la función percentile o arbitrario, este parametró será el umbral o el percentil'\n",
    "    list_predict=[] #lista de diccionarios de prediccion\n",
    "    # YOUR CODE HERE\n",
    "    raise NotImplementedError()\n",
    "    return list_predict"
   ]
  },
  {
   "cell_type": "markdown",
   "id": "246e0833",
   "metadata": {},
   "source": [
    "## Parte 5: Experimentos\n",
    "Por ultimo, debemos experimentar un poco con nuestros parametros para lograr obtener el mejor modelo posible. Algunos parametros funcionan bien individualmente y otros en combinación. Realice la experimentación que usted considere pertinente para obtener el mejor modelo. Experimente con el preprocesamiento y los metodos de umbralización principalmente. En su informe debe adjuntar una tabla con los resultados de su experimentación, especificando cual es su baseline y poniendo en negrilla su mejor resultado. Realice al menos 9 experimentos.\n",
    "\n",
    "> - Puede realizar todos los calculos y graficas necesarias en el conjunto de train, pero las metricas se obtienen en el conjunto de valid."
   ]
  },
  {
   "cell_type": "code",
   "execution_count": null,
   "id": "4ce4770f",
   "metadata": {},
   "outputs": [],
   "source": [
    "# Usen esta celda para imprimir y graficar lo que consideren necesario"
   ]
  },
  {
   "cell_type": "markdown",
   "id": "f8fe8e8d",
   "metadata": {
    "deletable": false,
    "editable": false,
    "nbgrader": {
     "cell_type": "markdown",
     "checksum": "4c16d9578d94627ce17a53556517fc4f",
     "grade": false,
     "grade_id": "cell-60aa106bbaa575ba",
     "locked": true,
     "schema_version": 3,
     "solution": false,
     "task": false
    }
   },
   "source": [
    "## Parte 6: Prueba\n",
    "Ya hemos determinado cuales parametros son los mejores para nuestro modelo. Ahora, sus predicciones en el conjunto de test para determinar la potencial eficacia de su modelo en la vida real. Adjunte estos resuldatos en su informe. Adicionalmente, adjunte al menos 4 detecciones de su modelo, puede usar la función view_pred que se le dió anteriormente, aprenda a usarla. Se usará un umbral de 0.6 de jaccard para la evaluación.\n",
    "\n",
    ">- Parte de su calificación será superar el baseline, si no lo logra su codigo tendrá una calificación maxima de 2/2.5, si logra superarlo tendrá una calificación de 3/2.5 (tendrá un bono de 0.5)"
   ]
  },
  {
   "cell_type": "code",
   "execution_count": null,
   "id": "00e67c9c",
   "metadata": {
    "deletable": false,
    "nbgrader": {
     "cell_type": "code",
     "checksum": "12ae14034e12db21307315a6b5c42890",
     "grade": false,
     "grade_id": "cell-10dfd5a951afa3a5",
     "locked": false,
     "schema_version": 3,
     "solution": true,
     "task": false
    }
   },
   "outputs": [],
   "source": [
    "# Usen esta celda para importar funciones necesarias\n",
    "list_test_predict='' #lista de predicciones de test\n",
    "\n",
    "# YOUR CODE HERE\n",
    "raise NotImplementedError()"
   ]
  },
  {
   "cell_type": "code",
   "execution_count": null,
   "id": "4c0e0812",
   "metadata": {
    "deletable": false,
    "editable": false,
    "nbgrader": {
     "cell_type": "code",
     "checksum": "91a6492bdb8a1f28e93afd49b203ed8c",
     "grade": false,
     "grade_id": "cell-aa880936f52e4c5a",
     "locked": true,
     "schema_version": 3,
     "solution": false,
     "task": false
    }
   },
   "outputs": [],
   "source": [
    "with open(os.path.join('data_mp1','BCCD','test','_annotations.coco.json'),'rb') as f:\n",
    "    anots=json.load(f)\n",
    "    \n",
    "Pr1,Co1,F1,umbral1=Curvas_P_C(anots,list_test_predict,0.6)\n",
    "mAP_04=mAP(Pr1,Co1)"
   ]
  },
  {
   "cell_type": "code",
   "execution_count": null,
   "id": "6bc0ec2b",
   "metadata": {
    "deletable": false,
    "editable": false,
    "nbgrader": {
     "cell_type": "code",
     "checksum": "79128fb3aed05f64e92e379ff3a23e25",
     "grade": true,
     "grade_id": "cell-cabe245ed0fed7fc",
     "locked": true,
     "points": 1,
     "schema_version": 3,
     "solution": false,
     "task": false
    }
   },
   "outputs": [],
   "source": [
    "assert mAP_04>0.02288, 'Su metodo no es mejor que el baseline'"
   ]
  },
  {
   "cell_type": "markdown",
   "id": "c5ba8fdf",
   "metadata": {
    "deletable": false,
    "editable": false,
    "nbgrader": {
     "cell_type": "markdown",
     "checksum": "0ec5f922cf56a527b857ae0c37468871",
     "grade": false,
     "grade_id": "cell-c4da59e53193e3dc",
     "locked": true,
     "schema_version": 3,
     "solution": false,
     "task": false
    }
   },
   "source": [
    "# Informe\n",
    "\n",
    "### Parte 1: Umbralización\n",
    "- ¿Cuales son las ventajas y desventajas de usar otsu como umbralización?\n",
    "- ¿Cuales son las ventajas y desventajas de usar percentiles como umbralización?\n",
    "- ¿Cuales son las ventajas y desventajas de usar umbrales arbitrarios como umbralización?\n",
    "- ¿Cual metodo le dió mejor resultados y por que?\n",
    "\n",
    "### Parte 2: Predicciones\n",
    "- Cree que es valido determinar el score con el porcentaje de area positiva dentro del bbox? ¿que otra idea puede ser valida?\n",
    "- ¿Que tan sensible es el modelo al score?\n",
    "\n",
    "### Parte 4: Preprocesamiento\n",
    "- Muestre los resultados cualitativos de su experimentación con el gamma de la transformación\n",
    "- Segun las intesidades de los globulos blancos ¿Cual valor de gamma es el indicado? ¿Puede cambiar si se utiliza un canal distinto?\n",
    "- ¿Tiene sentido realizar ecualización? ¿y especificación? Responda teniendo en cuenta la metodología de segmentación-dteccion que usamos\n",
    "- ¿Los resultados despues de usar la especificación fueron mejores que la imagen original? ¿que caracteristica tiene la imágen que usaron?\n",
    "\n",
    "### Parte 3: Procesamiento de la base de datos\n",
    "- ¿Exactamente cual es el formato de las predicciones?\n",
    "- ¿Qué información tiene cada una de las predicciones?\n",
    "- ¿Que particularidad tiene usar el formato json? \n",
    "\n",
    "### Parte 5: Experimentación\n",
    "- adjunte la tabla con los resultados de los experimentos\n",
    "- ¿Que parametros dio los mejores resultados?\n",
    "- ¿Que parte del proceso tuvo un mayor impacto? ¿Preprocesamiento o umbralización?\n",
    "- ¿Por que considera que su mejor metodo dio de esta forma?\n",
    "- ¿Cree que el preprocesamiento tuvo algun efecto positivo? ¿por qué?\n",
    "- Ademas de la umbralización y el preprocesamiento ¿cual otro parametro afectará la detección?\n",
    "\n",
    "### Parte 5: ¡Prueba!\n",
    "- Incluyan los resultados, incluyendo el subplot, la grafica de la curva PC y el mAP\n",
    "- ¿Es congruente sus resultados en prueba con los hechos en validación?\n",
    "- ¿Consideran que tienen una aproximación competente a este problema?\n",
    "- ¿Que problemas pueden ver en sus resultados cualitativos?\n",
    "- ¿Como mejorarían su metodo?"
   ]
  },
  {
   "cell_type": "code",
   "execution_count": null,
   "id": "3d33144c",
   "metadata": {},
   "outputs": [],
   "source": []
  }
 ],
 "metadata": {
  "kernelspec": {
   "display_name": "Python 3 (ipykernel)",
   "language": "python",
   "name": "python3"
  },
  "language_info": {
   "codemirror_mode": {
    "name": "ipython",
    "version": 3
   },
   "file_extension": ".py",
   "mimetype": "text/x-python",
   "name": "python",
   "nbconvert_exporter": "python",
   "pygments_lexer": "ipython3",
   "version": "3.11.4"
  }
 },
 "nbformat": 4,
 "nbformat_minor": 5
}
