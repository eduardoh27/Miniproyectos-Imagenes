{
 "cells": [
  {
   "cell_type": "markdown",
   "id": "aecfed84",
   "metadata": {
    "deletable": false,
    "editable": false,
    "nbgrader": {
     "cell_type": "markdown",
     "checksum": "ebb32c5c8d9ee31942d802be0520074d",
     "grade": false,
     "grade_id": "cell-38df147ebc2fdc95",
     "locked": true,
     "schema_version": 3,
     "solution": false,
     "task": false
    }
   },
   "source": [
    "# Miniproyecto 1: Detección de globulos blancos\n",
    "\n",
    "# Entrega 2:\n",
    "\n",
    "Para poder desarrollar el mejor algoritmo de detección, y en general de cualquier problema de vision por computador, debemos desarrollar un método de evaluación pertinente para determinar numericamente cuál modelo es mejor que otros. La evaluación cualitativa carece de sentido en bases de datos grandes o en modelos que realicen predicciones muy similares, recuerden que queremos obtener el mejor modelo posible implementando las herramientas que tenemos a mano.\n",
    "\n",
    "### Parte 1: Calculo de precisión y cobertura\n",
    "\n",
    "La precisión y cobertura es una metodologia de evaluación clasica para los problemas de detección, nos indica que tan segura es la predicción de nuestro modelo y cuan probable es que nuestro modelo logre abarcar a todos los verdaderos positivos. En un problema de detección, que es en esencia un problema de clasificación por ventanas, necesitamos tener un criterio para determinar cuando una ventana se considera positiva o negativa con respecto a la anotación. \n",
    "\n",
    "#### 1.1 Comparación de anotaciones y predicciones:\n",
    "\n",
    "En esta ocasion, les entregamos unas anotaciones para que logren calcular las metricas de evaluación, en un futuro desarrollarán un modelo para la detección de globulos blancos y utilizarán las funciones implementadas en este laboratorio.\n",
    "\n",
    "Nuestras anotaciones son diccionarios cuya llave \"bbox\" son 4 valores enteros [X,Y,W,H] donde (X,Y) son las coordenadas de la esquina superior izquierda y W,H son el ancho y el alto de la bounding box. Primero, vamos a crear la mascara binaria de la caja de la predicción o anotación. Crearemos una función que entre como parametros los 4 valores enteros, y retorne una mascara binaria para la anotación y para la predicción.\n",
    "\n",
    "> - Construya la caja teniendo en cuenta que las coordenadas proporcionadas son la coordenada **X** e **Y** de la esquina superior izquierda, y la altura y base de la caja respectivamente. Convierta en enteros las coordenadas.\n",
    "> - Establezca el tamaño de la ventana como 500x500.\n",
    "> - Puede hacer una matriz de zeros con el tamaño deseado y luego reemplazar los valores en los puntos que encierra."
   ]
  },
  {
   "cell_type": "code",
   "execution_count": null,
   "id": "a82f88d6",
   "metadata": {
    "deletable": false,
    "nbgrader": {
     "cell_type": "code",
     "checksum": "abefc52d346cd8753963d2c67d0344ff",
     "grade": false,
     "grade_id": "cell-f8b16342592fba25",
     "locked": false,
     "schema_version": 3,
     "solution": true,
     "task": false
    },
    "vscode": {
     "languageId": "plaintext"
    }
   },
   "outputs": [],
   "source": [
    "import numpy as np\n",
    "def bounding_box(X,Y,W,H):\n",
    "    # YOUR CODE HERE\n",
    "    raise NotImplementedError()\n",
    "    return A"
   ]
  },
  {
   "cell_type": "markdown",
   "id": "f066bbad",
   "metadata": {
    "deletable": false,
    "editable": false,
    "nbgrader": {
     "cell_type": "markdown",
     "checksum": "681a28e0c058aff90e2a0283bd178ee6",
     "grade": false,
     "grade_id": "cell-a865971fd99039be",
     "locked": true,
     "schema_version": 3,
     "solution": false,
     "task": false
    }
   },
   "source": [
    "Pruebe su función con el primer elemento de sus anotaciones de valid y el primer elemento de las predicciones del archivo dummy_predictions.json. Haga un plot con ambas mascaras binarias."
   ]
  },
  {
   "cell_type": "code",
   "execution_count": null,
   "id": "d2886621",
   "metadata": {
    "deletable": false,
    "nbgrader": {
     "cell_type": "code",
     "checksum": "4157221a26197650048ce697f3399144",
     "grade": false,
     "grade_id": "cell-ed961d654dbed1dc",
     "locked": false,
     "schema_version": 3,
     "solution": true,
     "task": false
    }
   },
   "outputs": [],
   "source": [
    "import json\n",
    "import os\n",
    "from matplotlib import pyplot as plt\n",
    "\n",
    "prediccion='' # archivo .json de las predicciones\n",
    "anotaciones='' # archivo .json de las anotaciones\n",
    "\n",
    "Ax,Ay,Aw,Ah='','','','' # coordenadas de la bbox de la anotación\n",
    "Px,Py,Pw,Ph='','','','' # coordenadas de la bbox de la predicción\n",
    "\n",
    "A='' # mascara binaria de la anotación\n",
    "P='' # mascara binaria de la predicción\n",
    "\n",
    "# YOUR CODE HERE\n",
    "raise NotImplementedError()"
   ]
  },
  {
   "cell_type": "code",
   "execution_count": null,
   "id": "4311e992",
   "metadata": {
    "deletable": false,
    "editable": false,
    "nbgrader": {
     "cell_type": "code",
     "checksum": "aed09501a136ec4181a0ed3ffffa9e41",
     "grade": true,
     "grade_id": "cell-a79b338f298c7a55",
     "locked": true,
     "points": 0.2,
     "schema_version": 3,
     "solution": false,
     "task": false
    }
   },
   "outputs": [],
   "source": [
    "assert (A.shape[0]==500), f'El tamaño de la mascara binaria debería ser 500x500 y es {A.shape}'\n",
    "assert (A.shape[1]==500), f'El tamaño de la mascara binaria debería ser 500x500 y es {A.shape}'\n",
    "assert (np.isclose(np.sum(A),Aw*Ah,0.1)), f'El area de la bbox de la anotación debería ser igual a la multiplicación de el ancho y el alto de la bbox'\n",
    "assert (P.shape[0]==500), f'El tamaño de la mascara binaria debería ser 500x500 y es {P.shape}'\n",
    "assert (P.shape[1]==500), f'El tamaño de la mascara binaria debería ser 500x500 y es {P.shape}'\n",
    "assert (np.isclose(np.sum(P),Pw*Ph,0.1)), f'El area de la bbox de la predicción debería ser igual a la multiplicación de el ancho y el alto de la bbox'\n",
    "assert (np.isclose(np.sum(A*P),12600,0.1))"
   ]
  },
  {
   "cell_type": "markdown",
   "id": "0e2aff93",
   "metadata": {
    "deletable": false,
    "editable": false,
    "nbgrader": {
     "cell_type": "markdown",
     "checksum": "8f1a007926541518fc13ef6e9bc221c0",
     "grade": false,
     "grade_id": "cell-f41374da9e130d4b",
     "locked": true,
     "schema_version": 3,
     "solution": false,
     "task": false
    }
   },
   "source": [
    "#### 1.2 Determinación de verdaderos positivos, falsos positivos y falsos negativos por umbral:\n",
    "\n",
    "Para poder determinar que predicciones consideramos positivas o negativas, debemos determinar que tanto se \"parecen\" las predicciones a las anotaciones y que tanto podemos confiar en estas predicciones. Antes que nada, debemos determinar cual va a ser nuestra minima confianza en nuestra predicción, de nada sirve un modelo que genera predicciones sin seguridad. Por otro lado, una metodologia para calcular esta similitud es el indice de Jaccard. Primero, estableceremos un umbral de confianza, si la predicción tiene la suficiente confianza se pasa a calcular la similitud de la prediccion-anotación. Ahora que tenemos una función que retorna una mascara binaria para la predicción y anotación, utilizaremos la función del indice de Jaccard **implementada en el tutorial 1** para determinar la similitud entre predicción-anotación.\n",
    "\n",
    "Cree una función que entre como parametro el diccionario de predicción y el de anotación junto con un umbral de jaccard y un umbral de confianza (no son lo mismo). Esta función retorna un numpy array de 3 componentes, la primera es el verdadero positivo, la segunda es falso positivo y la tercera es falso negativo. De esta forma, si la prediccion es un falso positivo, retorna un [0,1,0]. Recuerde que si la confianza de la predicción es menor al umbral, se considera un falso negativo, esta no se tiene en cuenta.\n",
    "\n",
    "\n",
    "> - Tenga cuidado de usar bien los umbrales, no utilice el umbral de Jaccard como confianza y viseversa.\n",
    "> - El diccionario de la predicción tiene una llave \"score\" que indica la confianza de la predicción.\n",
    "> - Use la función bounding_box para crear las mascaras binarias."
   ]
  },
  {
   "cell_type": "code",
   "execution_count": null,
   "id": "3ab1de1b",
   "metadata": {
    "deletable": false,
    "nbgrader": {
     "cell_type": "code",
     "checksum": "5e62f9efddfe8d1ccf10657fa17efa07",
     "grade": false,
     "grade_id": "cell-277f67171dabbd0c",
     "locked": false,
     "schema_version": 3,
     "solution": true,
     "task": false
    },
    "vscode": {
     "languageId": "plaintext"
    }
   },
   "outputs": [],
   "source": [
    "def evaluacion(anotacion_dict,prediccion_dict,j_umbral,c_umbral):\n",
    "    metricas='' # arreglo de metricas [TP,FP,FN]\n",
    "    # YOUR CODE HERE\n",
    "    raise NotImplementedError()\n",
    "    return metricas    "
   ]
  },
  {
   "cell_type": "code",
   "execution_count": null,
   "id": "1d4b2ff6",
   "metadata": {
    "deletable": false,
    "editable": false,
    "nbgrader": {
     "cell_type": "code",
     "checksum": "d8bc6ff916e393d51d5d5eb96f5dc65b",
     "grade": true,
     "grade_id": "cell-372baa042cb03493",
     "locked": true,
     "points": 0.3,
     "schema_version": 3,
     "solution": false,
     "task": false
    }
   },
   "outputs": [],
   "source": [
    "[TP1,FP1,FN1]=evaluacion(anotaciones[\"annotations\"][3],prediccion[3],0.5,0.7)\n",
    "[TP2,FP2,FN2]=evaluacion(anotaciones[\"annotations\"][1],prediccion[1],0.5,0.7)\n",
    "[TP3,FP3,FN3]=evaluacion(anotaciones[\"annotations\"][0],prediccion[0],0.5,0.7)\n",
    "\n",
    "assert (FN1==1), 'Esta prediccion debería ser un Falso Negativo'\n",
    "assert (TP3==1), 'Esta prediccion debería ser un Verdadero Positivo'\n",
    "assert (FN2==1), 'Esta prediccion debería ser un Falso Negativo'\n",
    "assert (FP2==1), 'Esta prediccion debería ser un Falso Positivo'"
   ]
  },
  {
   "cell_type": "markdown",
   "id": "436f722b",
   "metadata": {
    "deletable": false,
    "editable": false,
    "nbgrader": {
     "cell_type": "markdown",
     "checksum": "db6f53f763906206ed86af2e5033869a",
     "grade": false,
     "grade_id": "cell-fd7efb3726e4812f",
     "locked": true,
     "schema_version": 3,
     "solution": false,
     "task": false
    }
   },
   "source": [
    "#### 1.3 Metricas:\n",
    "\n",
    "Haga una función que entre como parametro los .json de las anotaciones y predicciones junto con un umbral de jaccard y confianza. Debe retornar la precisión, cobertura y F medida de la base de datos. Recuerde que hay multiples detecciones por imagen, así que queremos quedarnos unicamente con las detecciones de la categoria 3, que corresponde a los globulos blancos.\n",
    "\n",
    "Recuerde que la formula de Precisión, Cobertura y F medida son las siguientes:\n",
    "\n",
    "\\begin{equation}\n",
    "P = \\frac{TP}{TP+FP+\\epsilon}\n",
    "\\end{equation}\n",
    "\n",
    "\\begin{equation}\n",
    "C = \\frac{TP}{TP + FN+\\epsilon}\n",
    "\\end{equation}\n",
    "\n",
    "\\begin{equation}\n",
    "F_{medida} = \\frac{2 (P \\times C)}{P + C+\\epsilon}\n",
    "\\end{equation}\n",
    "\n",
    "El termino $\\epsilon$ se agrega en la implementación del codigo como una constante pequeña (en nuestro caso dejela como $1 \\times 10^{-6}$) para no afectar el calculo de las metricas pero evitar la division por 0."
   ]
  },
  {
   "cell_type": "code",
   "execution_count": null,
   "id": "2701cc5d",
   "metadata": {
    "deletable": false,
    "nbgrader": {
     "cell_type": "code",
     "checksum": "115d23f0f56b1605c2e703f0f368085d",
     "grade": false,
     "grade_id": "cell-497eec770c1ee8b2",
     "locked": false,
     "schema_version": 3,
     "solution": true,
     "task": false
    }
   },
   "outputs": [],
   "source": [
    "def Metricas(anotaciones,predicciones,j_umbral,c_umbral):\n",
    "    # YOUR CODE HERE\n",
    "    raise NotImplementedError()\n",
    "    return P,C,F"
   ]
  },
  {
   "cell_type": "code",
   "execution_count": null,
   "id": "3b2617c7",
   "metadata": {
    "deletable": false,
    "editable": false,
    "nbgrader": {
     "cell_type": "code",
     "checksum": "35579a5dd4579f08280b522d24137315",
     "grade": true,
     "grade_id": "cell-5c01b38e27afcb56",
     "locked": true,
     "points": 0.5,
     "schema_version": 3,
     "solution": false,
     "task": false
    }
   },
   "outputs": [],
   "source": [
    "P,C,F=Metricas(anotaciones,prediccion,0.5,0.7)\n",
    "\n",
    "assert P>0 and P<1, 'La precisión no puede ser menor a 0 ni mayor a 1'\n",
    "assert C>0 and C<1, 'La cobertura no puede ser menor a 0 ni mayor a 1'\n",
    "assert F>0 and F<1, 'La F medida no puede ser menor a 0 ni mayor a 1'\n",
    "\n",
    "assert P>C, 'La precisión debe ser mayor a la cobertura para esta predicción'\n",
    "assert F>C and F<P, 'La F medida debe ser mayor a la precisión y mayor a la cobertura en esta predicción'\n",
    "assert (np.isclose(P*C,0.328,0.1)), 'El valor de la precisión o la cobertura es erronea'"
   ]
  },
  {
   "cell_type": "markdown",
   "id": "ec2e2488",
   "metadata": {
    "deletable": false,
    "editable": false,
    "nbgrader": {
     "cell_type": "markdown",
     "checksum": "3955b29d326b6ee53ae54abdd213be07",
     "grade": false,
     "grade_id": "cell-ab71a9e5d4ac76ca",
     "locked": true,
     "schema_version": 3,
     "solution": false,
     "task": false
    }
   },
   "source": [
    "### Parte 2: Calculo de curvas de precisión y cobertura y mAP\n",
    "\n",
    "#### 2.1 Curva de precisión y cobertura:\n",
    "Cómo podemos determinar cuál modelo es mejor? Un modelo poseerá varias caracteristicas, no es tan simple como escoger la mejor precisión o la mejor cobertura, tampoco la mejor F medida, ya que esto dependerá del umbral de confianza escogido. Variaremos, entonces, el valor del umbral de confianza, este umbral nos proporcionará una precisión y una cobertura especifica, este será un punto en el plano Precisión,Cobertura, de esta forma crearemos una curva. \n",
    "\n",
    "Cree una función que varie el umbral de confianza desde 0.1 hasta 1 con 100 datos y genere la precisión, cobertura y F medida con ayuda de la función Metricas. Esta función recibe como parametro el .json de anotaciones y predicciones, y un umbral de Jaccard, y deberá retornar 2 vectores (P,C) de 10 posiciones (un dato por cada umbral).\n",
    "> - Recuerde variar el umbral de confianza, no el de Jaccard.\n",
    "\n",
    "Un aspecto importante de las métricas es la F medida, queremos encontrar cual es el valor máximo de F medida alcanzado y para cual umbral de confianza. Retornen tambien estos 2 valores en la función.\n",
    "\n",
    "Grafique la curva de precisión y cobertura. Nosotros les graficaremos unas curvas de F medida, estas curvas son la combinación de precisión y cobertura que generan una F medida especifica. De esta forma, podemos ver graficamente cual es la F medida más alta alcanzada por nuestro modelo. \n"
   ]
  },
  {
   "cell_type": "code",
   "execution_count": null,
   "id": "c4bd2441",
   "metadata": {
    "deletable": false,
    "nbgrader": {
     "cell_type": "code",
     "checksum": "37b165d34510c291b8777695c4acd160",
     "grade": false,
     "grade_id": "cell-34e2fc1e271f3675",
     "locked": false,
     "schema_version": 3,
     "solution": true,
     "task": false
    }
   },
   "outputs": [],
   "source": [
    "def Curvas_P_C(anotaciones,predicciones,jaccard):\n",
    "    # YOUR CODE HERE\n",
    "    raise NotImplementedError()\n",
    "    return Pr,Co,F,umbral"
   ]
  },
  {
   "cell_type": "code",
   "execution_count": null,
   "id": "533754d9",
   "metadata": {
    "deletable": false,
    "editable": false,
    "nbgrader": {
     "cell_type": "code",
     "checksum": "15d5c80e6901ce6dce522c67ea4ac5f0",
     "grade": false,
     "grade_id": "cell-85a665e17fe9ff45",
     "locked": true,
     "schema_version": 3,
     "solution": false,
     "task": false
    },
    "vscode": {
     "languageId": "plaintext"
    }
   },
   "outputs": [],
   "source": [
    "import numpy as np\n",
    "from matplotlib import pyplot as plt\n",
    "    \n",
    "#Dibujamos las curvas de F medida\n",
    "p=np.arange(0.0001,1.0001,0.0001)\n",
    "for f in np.arange(0.0,1.2,0.1): #saltos de 0.1 desde una F medida de 0 hasta una F medida de 1\n",
    "    aux=np.zeros(len(p))\n",
    "    for i in range(len(p)):\n",
    "        k=(2*p[i]-f)\n",
    "        if k>0.001:\n",
    "            c=f*p[i]/k\n",
    "            aux[i]=c\n",
    "    c=np.copy(aux)\n",
    "    c=c*(c<=1)\n",
    "    l2=np.where(c!=0)[0]\n",
    "    C=c[l2]\n",
    "    P=p[l2]\n",
    "    plt.plot(C,P,'r--')\n",
    "Pr1,Co1,F1,umbral1=Curvas_P_C(anotaciones,prediccion,0.4)\n",
    "Pr2,Co2,F2,umbral2=Curvas_P_C(anotaciones,prediccion,0.55)\n",
    "Pr3,Co3,F3,umbral3=Curvas_P_C(anotaciones,prediccion,0.65)\n",
    "plt.plot(Co1,Pr1,label='J=0.3')\n",
    "plt.plot(Co2,Pr2,label='J=0.5')\n",
    "plt.plot(Co3,Pr3,label='J=0.65')\n",
    "plt.xlabel('Cobertura')\n",
    "plt.ylabel('Precision')\n",
    "plt.legend()\n",
    "plt.show()"
   ]
  },
  {
   "cell_type": "code",
   "execution_count": null,
   "id": "6df74d01",
   "metadata": {
    "deletable": false,
    "editable": false,
    "nbgrader": {
     "cell_type": "code",
     "checksum": "3d61a86a584b8b9f756bd832eb936e26",
     "grade": true,
     "grade_id": "cell-7e0afe547ca4ff13",
     "locked": true,
     "points": 0.5,
     "schema_version": 3,
     "solution": false,
     "task": false
    }
   },
   "outputs": [],
   "source": [
    "assert (len(Pr1)==100)\n",
    "assert (len(Co1)==100)\n",
    "assert (len(Pr2)==100)\n",
    "assert (len(Co2)==100)\n",
    "assert (len(Pr3)==100)\n",
    "assert (len(Co3)==100)\n",
    "assert (1 in np.isclose(np.around(Pr1,4),np.ones(100)*0.8906,0.01))\n",
    "assert (1 in np.isclose(np.around(Pr2,4),np.ones(100)*0.6818,0.01))"
   ]
  },
  {
   "cell_type": "markdown",
   "id": "89f29a0c",
   "metadata": {
    "deletable": false,
    "editable": false,
    "nbgrader": {
     "cell_type": "markdown",
     "checksum": "ec1e6734fa972291df360de17169d39a",
     "grade": false,
     "grade_id": "cell-8203bc4bfe89ee38",
     "locked": true,
     "schema_version": 3,
     "solution": false,
     "task": false
    }
   },
   "source": [
    "#### 2.2 Calcular mAP\n",
    "\n",
    "Una metrica importante del desempeño del modelo es el mAP, que es, en esencia, el area bajo la curva de la curva de precisión y cobertura. Obtenga el area bajo la curva del modelo. El calculo de esta metrica se encuentra acontinuación."
   ]
  },
  {
   "cell_type": "code",
   "execution_count": null,
   "id": "01d23f7a",
   "metadata": {
    "deletable": false,
    "editable": false,
    "nbgrader": {
     "cell_type": "code",
     "checksum": "7e4e38819373ee1cf2cba38204d4a1f3",
     "grade": false,
     "grade_id": "cell-152c3f7b830efe73",
     "locked": true,
     "schema_version": 3,
     "solution": false,
     "task": false
    },
    "vscode": {
     "languageId": "plaintext"
    }
   },
   "outputs": [],
   "source": [
    "def mAP(precision,cobertura):\n",
    "    'precisión: Arreglo de precisión'\n",
    "    'cobertura: Arreglo de cobertura'\n",
    "    A=0\n",
    "    for i in range(len(cobertura)-1):\n",
    "        A+=(cobertura[i]-cobertura[i+1])*precision[i]\n",
    "    return A\n"
   ]
  },
  {
   "cell_type": "markdown",
   "id": "3043ec98",
   "metadata": {
    "deletable": false,
    "editable": false,
    "nbgrader": {
     "cell_type": "markdown",
     "checksum": "0c3f68e4c4c05fe4fed09f9c4899860d",
     "grade": false,
     "grade_id": "cell-45c0247a575e736b",
     "locked": true,
     "schema_version": 3,
     "solution": false,
     "task": false
    }
   },
   "source": [
    "Encuentre el mejor umbral de Jaccard para su modelo con el mayor umbral de confianza posible. Use la siguiente celda para graficar la curva de precisión y cobertura e imprimir el mAP. Haga al menos 5 experimentos."
   ]
  },
  {
   "cell_type": "code",
   "execution_count": null,
   "id": "fea9260a",
   "metadata": {
    "deletable": false,
    "nbgrader": {
     "cell_type": "code",
     "checksum": "ee9e61aeeba933a8ad4e6116630e8f27",
     "grade": false,
     "grade_id": "cell-2a2ce85d164001cd",
     "locked": false,
     "schema_version": 3,
     "solution": true,
     "task": false
    }
   },
   "outputs": [],
   "source": [
    "# YOUR CODE HERE\n",
    "raise NotImplementedError()"
   ]
  },
  {
   "attachments": {
    "image.png": {
     "image/png": "[encoded data removed]"
    }
   },
   "cell_type": "markdown",
   "id": "9a034cfc",
   "metadata": {
    "deletable": false,
    "editable": false,
    "nbgrader": {
     "cell_type": "markdown",
     "checksum": "d70d67dd4430999d1ab8a4f04fb8c0da",
     "grade": false,
     "grade_id": "cell-2601d3d21df96bea",
     "locked": true,
     "schema_version": 3,
     "solution": false,
     "task": false
    }
   },
   "source": [
    "### Parte 3: Detección mediante segmentación\n",
    "La metodología que usaremos para detectar un globulo blanco será a partir de una mascara de segmentación, la idea será crear un recuadro al rededor de la segmentación del globulo. Existen varias metodologías para resolver este problema, nosotros experimentaremos con 2 de ellas, una grilla y una ventana deslizante.\n",
    "\n",
    "#### 3.1: Grilla\n",
    "Las imagenes son, en esencia, grillas de pixeles. La idea general de esta metodología será crear cuadrantes dentro de nuestra mascara binaria y clasificar los cuadrantes como positivos o negativos según la cantidad de pixeles True dentro de estos, esto significa que debemos determinar un umbral de area dentro del recuadro y el tamaño o cantidad de recuadros.\n",
    "\n",
    "Cree una función que reciba por parametro una mascara binaria, tamaño del cuadrante (filas, columnas) y el umbral de area. Debe retornar una tupla (X,Y,W,H).\n",
    "\n",
    "![image.png](attachment:image.png)\n",
    "\n",
    "> - Solo debe retornar el la detección con mayor area.\n",
    "> - Debe comprobar que el tamaño del cuadrante sea entero y que el tamaño de la mascara binaria sea divisible en el tamaño del cuadrante (para evitar tener cuadrantes a medias)\n",
    "> - Una forma simple de saber cuantos Trues existen en un arreglo es usar np.sum() ya que python considera los True como 1s.\n",
    "> - En esta metodología, el ancho y el alto de la bbox son constantes, el tamaño del cuadrante\n",
    "> - Si ningun cuadrante sobrepasan el umbral, retorne 4 None."
   ]
  },
  {
   "cell_type": "code",
   "execution_count": null,
   "id": "d0627aa8",
   "metadata": {
    "deletable": false,
    "nbgrader": {
     "cell_type": "code",
     "checksum": "bcfa1c5241a30a7cdeeb57df666d54b2",
     "grade": false,
     "grade_id": "cell-19f05147d6014684",
     "locked": false,
     "schema_version": 3,
     "solution": true,
     "task": false
    },
    "vscode": {
     "languageId": "plaintext"
    }
   },
   "outputs": [],
   "source": [
    "from skimage import io\n",
    "import os\n",
    "import numpy as np\n",
    "\n",
    "def Grilla(mask,tamano,umbral):\n",
    "    'mask (ndarray): Mascara binaria'\n",
    "    'tamano (tupla): Tamaño en filas,columnas del cuadrante'\n",
    "    'umbral (int): cantidad de True para determinar positivo'\n",
    "    # YOUR CODE HERE\n",
    "    raise NotImplementedError()\n",
    "    return X,Y,W,H"
   ]
  },
  {
   "cell_type": "code",
   "execution_count": null,
   "id": "b0db94e6",
   "metadata": {
    "deletable": false,
    "editable": false,
    "nbgrader": {
     "cell_type": "code",
     "checksum": "3fb36d9138da4e2bcde989b415256f16",
     "grade": true,
     "grade_id": "cell-68e07bb47fe4b95f",
     "locked": true,
     "points": 0.5,
     "schema_version": 3,
     "solution": false,
     "task": false
    }
   },
   "outputs": [],
   "source": [
    "import cv2\n",
    "\n",
    "mask=io.imread(os.path.join('data_mp1','dummy_segmentation.png'))!=0\n",
    "X,Y,W,H=Grilla(mask,(52,52),1000)\n",
    "\n",
    "assert W is not None, 'Ninguna coordenada deberia ser None'\n",
    "assert W==52 and H==52, 'El alto y ancho de su bbox deben ser iguales al tamaño del cuadrante'\n",
    "assert (np.sum(mask[Y:Y+W,X:X+H])!=0), 'Su detección no cuenta con ningun elemento'\n",
    "assert (np.sum(mask[Y:Y+W,X:X+H])>1000), 'El area de la mascara de su detección es mayor al umbral'\n",
    "\n",
    "plt.imshow(cv2.rectangle(np.array(np.stack((mask,mask,mask),axis=2),dtype=int)*255,(X,Y),(X+W,Y+H),(255,0,0),3))\n",
    "plt.show()\n",
    "\n",
    "assert np.isclose(Y,312,0.1), 'La coordenada en X es erronea'\n",
    "assert np.isclose(X,104,0.1), 'La coordenada en Y es erronea'\n",
    "\n",
    "X,Y,W,H=Grilla(mask,(52,52),2500)\n",
    "\n",
    "assert X is None and Y is None, 'Debe retornar un None si el area no supera el umbral'"
   ]
  },
  {
   "cell_type": "markdown",
   "id": "994174e0",
   "metadata": {
    "deletable": false,
    "editable": false,
    "nbgrader": {
     "cell_type": "markdown",
     "checksum": "c0b4e4277a78e61f497f5e324b03cb71",
     "grade": false,
     "grade_id": "cell-fc6d40e465e2114f",
     "locked": true,
     "schema_version": 3,
     "solution": false,
     "task": false
    }
   },
   "source": [
    "#### 3.2 Ventana deslizante:\n",
    "Podemos observar que la detección de la celula blanca no es la mejor, la metodología de la grilla tiene problemas evidentes. Una evolución sería utilizar una ventana deslizante. En esta ocasión, volveremos a hacer un analisis local en una porción de la mascara, pero permitiremos un mayor numero de ventanas y, por lo tanto, una mayor probabilidad de tener una detección correcta.\n",
    "\n",
    "Cree una función que reciba por parametro la mascara binaria, el tamaño de la ventana de analisis y un umbral. Haga el mismo procedimiento de la anterior función. Haga que el movimiento de la ventana sea cada 5 pixeles. \n",
    "\n",
    "> - Tenga cuidado de que la ventana deslizante no se salga de la imagen.\n",
    "> - La metodología de la grilla es el mismo de la ventana deslizante pero con un movimiento de ventana igual al tamaño de la misma."
   ]
  },
  {
   "cell_type": "code",
   "execution_count": null,
   "id": "e6f68a95",
   "metadata": {
    "deletable": false,
    "nbgrader": {
     "cell_type": "code",
     "checksum": "17ec2784ca44dd58ceb4e0eaa03b39a8",
     "grade": false,
     "grade_id": "cell-dd5c0520ebc65e64",
     "locked": false,
     "schema_version": 3,
     "solution": true,
     "task": false
    }
   },
   "outputs": [],
   "source": [
    "def Ventana_delizante(mask,tamano,umbral):\n",
    "    'mask (ndarray): Mascara binaria'\n",
    "    'tamano (tupla): Tamaño en filas,columnas del cuadrante'\n",
    "    'umbral (int): cantidad de True para determinar positivo'\n",
    "    # YOUR CODE HERE\n",
    "    raise NotImplementedError()\n",
    "    return X,Y,W,H"
   ]
  },
  {
   "cell_type": "code",
   "execution_count": null,
   "id": "00a34b61",
   "metadata": {
    "deletable": false,
    "editable": false,
    "nbgrader": {
     "cell_type": "code",
     "checksum": "f97c3674a2118cfa669fb02f2846f8e1",
     "grade": true,
     "grade_id": "cell-03ef93dc3b56efd0",
     "locked": true,
     "points": 0.5,
     "schema_version": 3,
     "solution": false,
     "task": false
    }
   },
   "outputs": [],
   "source": [
    "mask=io.imread(os.path.join('data_mp1','dummy_segmentation.png'))!=0\n",
    "X,Y,W,H=Ventana_delizante(mask,(52,52),1000)\n",
    "\n",
    "assert W is not None, 'Ninguna coordenada deberia ser None'\n",
    "assert W==52 and H==52, 'El alto y ancho de su bbox deben ser iguales al tamaño del cuadrante'\n",
    "assert (np.sum(mask[Y:Y+W,X:X+H])!=0), 'Su detección no cuenta con ningun elemento'\n",
    "assert (np.sum(mask[Y:Y+W,X:X+H])>1000), 'El area de la mascara de su detección es mayor al umbral'\n",
    "\n",
    "plt.imshow(cv2.rectangle(np.array(np.stack((mask,mask,mask),axis=2),dtype=int)*255,(X,Y),(X+W,Y+H),(255,0,0),3))\n",
    "plt.show()\n",
    "\n",
    "assert X%52!=0, 'No usó una ventana deslizante'\n",
    "assert Y%52!=0, 'No usó una ventana deslizante'\n",
    "assert np.isclose(Y,325,0.01), 'La coordenada en X es erronea'\n",
    "assert np.isclose(X,95,0.005), 'La coordenada en Y es erronea'\n",
    "\n",
    "X,Y,W,H=Grilla(mask,(52,52),2500)\n",
    "\n",
    "assert X is None and Y is None, 'Debe retornar un None si el area no supera el umbral'"
   ]
  },
  {
   "cell_type": "markdown",
   "id": "2c95f680",
   "metadata": {
    "deletable": false,
    "editable": false,
    "nbgrader": {
     "cell_type": "markdown",
     "checksum": "7bd7a241b96be4924bd85422ab53a8ae",
     "grade": false,
     "grade_id": "cell-566f0e4b5d6cf4b0",
     "locked": true,
     "schema_version": 3,
     "solution": false,
     "task": false
    }
   },
   "source": [
    "## Informe\n",
    "\n",
    "Una vez realizada la parte practica de la metodología es necesario poder comprender mas allá de lo que realizamos anteriormente. Para esto deben responder las siguientes preguntas en su informe.\n",
    "\n",
    "### Parte 1: Calculo de precisión y cobertura\n",
    "\n",
    "Un problema de detección es, en esencia, un problema de clasificación por ventanas, por lo que podemos utilizar las mismas métricas de clasificación pero con ligeras modificaciones. En ese sentido conteste las siguientes preguntas:\n",
    "\n",
    "- Explique con sus palabras como se determina un falso positivo y un falso negativo en un problema de detección y la razón detras de este.\n",
    "- En este problema ¿Es preferible una alta precisión o una alta cobertura?\n",
    "\n",
    "\n",
    "### Parte 2: Calculo de curvas de precisión y cobertura y mAP\n",
    "\n",
    "La curva de precisión y cobertura es una metodología de evaluación que nos permite determinar la eficiencia de nuestro modelo de detección. Es importante conocer las caracteristicas de nuestro modelo y para que determinados momentos funciona mejor o peor. Teniendo eso en cuenta conteste las siguientes preguntas: \n",
    "\n",
    "- ¿A que parametro es sensible la curva de precisión y cobertura y por que?\n",
    "- ¿En cual umbral de jaccard se obtuvo una mayor F medida?\n",
    "- ¿Es preferible tener un umbral de Jaccard alto o bajo? ¿Cuales son sus ventajas y desventajas?\n",
    "- ¿Que implica tener la maxima F medida en un bajo umbral de confianza? \n",
    "- Determine una metodología para obtener el mejor umbral de Jaccard sin comprometer la generalización del model\n",
    "\n",
    "### Parte 3: Detección mediante segmentación\n",
    "\n",
    "Una forma efectiva para realizar una detección es, primero, realizar una segmentación para luego agregar una caja al rededor de la mascara. Esta metodología tiene sentido pero tambien tiene algunos problemas asociados. Responda las siguientes preguntas:\n",
    "\n",
    "- ¿Cuales son los problemas mas importantes con cada metodología?\n",
    "- ¿A que parametro es sensible ambas metodologías?\n",
    "- ¿Que debemos cambiar si deseamos detectar más de un globulo blanco en una unica imagen?\n",
    "- Proponga posibles mejoras para cada metodología."
   ]
  }
 ],
 "metadata": {
  "kernelspec": {
   "display_name": "Python 3 (ipykernel)",
   "language": "python",
   "name": "python3"
  },
  "language_info": {
   "codemirror_mode": {
    "name": "ipython",
    "version": 3
   },
   "file_extension": ".py",
   "mimetype": "text/x-python",
   "name": "python",
   "nbconvert_exporter": "python",
   "pygments_lexer": "ipython3",
   "version": "3.11.4"
  }
 },
 "nbformat": 4,
 "nbformat_minor": 5
}
