{
 "cells": [
  {
   "cell_type": "markdown",
   "id": "98900ac9",
   "metadata": {
    "deletable": false,
    "editable": false,
    "nbgrader": {
     "cell_type": "markdown",
     "checksum": "515122913a7144a23ce1eaee137babf5",
     "grade": false,
     "grade_id": "cell-555c0337b97e15d2",
     "locked": true,
     "schema_version": 3,
     "solution": false,
     "task": false
    }
   },
   "source": [
    "# MiniProyecto 2: Segmentación de higado en volumenes MRI\n",
    "\n",
    "## Entrega 1: \n",
    "\n",
    "En el anterior miniproyecto empezamos a relacionarnos con las tareas de la visión por computador y la metodología de investigación, que va desde la visualización y el entendimiento del problema a resolver, pasando por la planeación de experimentos y el pre-procesamiento, para finalizar con el desarrollo de un algoritmo completo y su metodología de evaluación. En el anterior miniproyecto nos centramos en la detección, una tarea de clasificación binaria donde buscamos remarcar o delimitar un objeto en una ventana. Ahora, nos familiarizaremos con la tarea de segmentación, con la que ya pudimos experimentar en la entrega pasada, pero ahora siendo el problema principal y no un vehiculo para la detección. Debemos recordar que la segmentación es una refinación de la tarea de clasificación, donde queremos asignarle a cada pixel una etiqueta, en este caso será una clasificación binaria donde la clase 0 es el fondo y la clase 1 será el higado. \n",
    "\n",
    "### Parte 1: Exploración de base de datos\n",
    "\n",
    "Como aprendimos anteriormente, lo primero que debemos hacer es familiarizarnos con las imágenes de la base de datos. En esta ocasión no tenemos imagenes como tal sino volumenes ya que tratamos con imagenes medicas, en concreto, MRI.\n",
    "\n",
    "#### Parte 1.1: Importación de imagenes y anotaciones\n",
    "\n",
    "Para poder abrir los archivos de MRI debemos usar la libreria **nibabel**. Use la siguiente celda para cargar el volumen original.nii y la segmentación segmentation.nii de la carpeta E1. \n",
    "\n",
    "> - **Nota** Para poder abrir los volumenes debe usar la función *load* y la función *get_fdata*. Puede ver un ejemplo en este link https://nipy.org/nibabel/gettingstarted.html. "
   ]
  },
  {
   "cell_type": "code",
   "execution_count": null,
   "id": "bdf3e372",
   "metadata": {},
   "outputs": [],
   "source": [
    "#!pip install nibabel"
   ]
  },
  {
   "cell_type": "code",
   "execution_count": null,
   "id": "9bc04e21",
   "metadata": {
    "deletable": false,
    "nbgrader": {
     "cell_type": "code",
     "checksum": "aa17e50b9e59618f223048a7fb7f59e6",
     "grade": false,
     "grade_id": "cell-06681aeb7ffa05c8",
     "locked": false,
     "schema_version": 3,
     "solution": true,
     "task": false
    }
   },
   "outputs": [],
   "source": [
    "original_vol='' # Volumen original original.nii\n",
    "seg_vol='' #Volumen de segmentación segmentation.nii\n",
    "\n",
    "# YOUR CODE HERE\n",
    "raise NotImplementedError()"
   ]
  },
  {
   "cell_type": "code",
   "execution_count": null,
   "id": "5c454e4d",
   "metadata": {
    "deletable": false,
    "editable": false,
    "nbgrader": {
     "cell_type": "code",
     "checksum": "d17c63526ef2e89026d7923ef7671b52",
     "grade": true,
     "grade_id": "cell-d9fb5601ccedf7aa",
     "locked": true,
     "points": 0.1,
     "schema_version": 3,
     "solution": false,
     "task": false
    }
   },
   "outputs": [],
   "source": [
    "assert np.isclose(np.sum(original_vol),5004343,0.01), f'El volumen original.nii no es correcto'\n",
    "assert np.isclose(np.sum(seg_vol),555218,0.01), f'El volumen de segmentación no es el correcto'"
   ]
  },
  {
   "cell_type": "markdown",
   "id": "c68e759b",
   "metadata": {
    "deletable": false,
    "editable": false,
    "nbgrader": {
     "cell_type": "markdown",
     "checksum": "21984d86b3de0b0d54daad6af06f09d8",
     "grade": false,
     "grade_id": "cell-ea20dd29ef1c34aa",
     "locked": true,
     "schema_version": 3,
     "solution": false,
     "task": false
    }
   },
   "source": [
    "#### Parte 1.2 Distribución de la imagen y segmentación\n",
    "Ahora vamos a explorar la distribución de las clases en la segmentación. Al igual que en los problemas de detección, tendremos una distribución de etiquetas dentro de cada dato, recuerden que nuestros datos son volumenes. Use la siguiente celda para encontrar la cantidad de pixeles de cada clase en la volumen original. Tambien saque los porcentajes de estas clases. Todo el dataset tiene 3 labels y cada label es un numero, tengalo en cuenta.\n",
    "\n",
    "> **Recomendación:** Use np.unique (busque la documentación) para encontrar los labels de las segmentaciones, sabemos que son numeros pero no que numeros son."
   ]
  },
  {
   "cell_type": "code",
   "execution_count": null,
   "id": "bccfd701",
   "metadata": {
    "deletable": false,
    "nbgrader": {
     "cell_type": "code",
     "checksum": "46971a35ad1e5eceaab7346a5c2c3d2e",
     "grade": false,
     "grade_id": "cell-219425899d701541",
     "locked": false,
     "schema_version": 3,
     "solution": true,
     "task": false
    }
   },
   "outputs": [],
   "source": [
    "labels='' #arreglo con las etiquetas de la base de datos de train\n",
    "\n",
    "# YOUR CODE HERE\n",
    "raise NotImplementedError()"
   ]
  },
  {
   "cell_type": "code",
   "execution_count": null,
   "id": "edf268b9",
   "metadata": {
    "deletable": false,
    "editable": false,
    "nbgrader": {
     "cell_type": "code",
     "checksum": "9ab5f251e33f0799d66c7b7c34b5a04d",
     "grade": true,
     "grade_id": "cell-48319ebf83b2f0d0",
     "locked": true,
     "points": 0.1,
     "schema_version": 3,
     "solution": false,
     "task": false
    }
   },
   "outputs": [],
   "source": [
    "assert labels.shape[0] == 3, f'El número de etiquetas debería ser 3'\n",
    "assert np.isclose(np.sum(labels), 3, 0.1), f'Obtuvieron los labels incorrectamente'"
   ]
  },
  {
   "cell_type": "code",
   "execution_count": null,
   "id": "479fdcfa",
   "metadata": {
    "deletable": false,
    "nbgrader": {
     "cell_type": "code",
     "checksum": "8d3fdd8be4926dd3f53e84eded2c499e",
     "grade": false,
     "grade_id": "cell-0e170d22341fd2d8",
     "locked": false,
     "schema_version": 3,
     "solution": true,
     "task": false
    }
   },
   "outputs": [],
   "source": [
    "label_0='' #cantidad de voxeles con la etiqueta 0\n",
    "label_1='' #cantidad de voxeles con la etiqueta 1\n",
    "label_2='' #cantidad de voxeles con la etiqueta 2\n",
    "\n",
    "# YOUR CODE HERE\n",
    "raise NotImplementedError()"
   ]
  },
  {
   "cell_type": "code",
   "execution_count": null,
   "id": "2b749f34",
   "metadata": {
    "deletable": false,
    "editable": false,
    "nbgrader": {
     "cell_type": "code",
     "checksum": "5f282721106154db4d43f9966acfe546",
     "grade": false,
     "grade_id": "cell-47b441370fc3bb8f",
     "locked": true,
     "schema_version": 3,
     "solution": false,
     "task": false
    }
   },
   "outputs": [],
   "source": [
    "print (\"{:<15} {:<20}\".format('Clase','Total voxeles por clase'))\n",
    "print ('----------------------------------------------------------------------------')\n",
    "print (\"{:<15} {:<20}\".format(labels[0],label_0))\n",
    "print (\"{:<15} {:<20}\".format(labels[1],label_1))\n",
    "print (\"{:<15} {:<20}\".format(labels[2],label_2))"
   ]
  },
  {
   "cell_type": "code",
   "execution_count": null,
   "id": "ae04d68d",
   "metadata": {
    "deletable": false,
    "editable": false,
    "nbgrader": {
     "cell_type": "code",
     "checksum": "e602bcae0b1e75cd73f5f0a578e02655",
     "grade": true,
     "grade_id": "cell-2a8f1b940c0ae82b",
     "locked": true,
     "points": 0.1,
     "schema_version": 3,
     "solution": false,
     "task": false
    }
   },
   "outputs": [],
   "source": [
    "assert np.isclose(np.sum(label_0), 19108173, 0.01), f'El número de píxeles en la clase 0 debería ser 19108173 y no {np.sum(label_0)}'\n",
    "assert np.isclose(np.sum(label_1), 550036, 0.01), f'El número de píxeles en la clase 1 debería ser 19108173 y no {np.sum(label_1)}'\n",
    "assert np.isclose(np.sum(label_1), 550036, 0.01), f'El número de píxeles en la clase 1 debería ser 19108173 y no {np.sum(label_1)}'"
   ]
  },
  {
   "cell_type": "markdown",
   "id": "13c2cfc6",
   "metadata": {
    "deletable": false,
    "editable": false,
    "nbgrader": {
     "cell_type": "markdown",
     "checksum": "132e022d3f6b55c93e1772237e273965",
     "grade": false,
     "grade_id": "cell-949592a580270268",
     "locked": true,
     "schema_version": 3,
     "solution": false,
     "task": false
    }
   },
   "source": [
    "#### Parte 1.3: Visualización de anotaciones\n",
    "Veamos ahora los datos con los que vamos a trabajar. Sabemos que nuestros datos originales son MRI, son volumenes, pero aun no sabemos como serán nuestras anotaciones. Esto es importante porque, como todo problema de vision por computador, debemos saber cuales son nuestros inputs y cuales queremos que sean nuestros outputs. En la siguiente celda use el volumen original.nii y busque cual es el slice de la anotación (volumen segmentado) que más area de segmentación tiene en el eje axial. Haga un plot de del corte y de la segmentacion más grande. \n",
    "\n",
    "> **Recuerde:** Tenemos el label del fondo (0) y las demas labels, pero nosotros solo queremos tratar con una segmentación binaria. De ahora en adelante, las labels que son diferentes de 0 serán 1."
   ]
  },
  {
   "cell_type": "code",
   "execution_count": null,
   "id": "45963439",
   "metadata": {
    "deletable": false,
    "nbgrader": {
     "cell_type": "code",
     "checksum": "a60779055392355cc2d86c85d7e12800",
     "grade": false,
     "grade_id": "cell-935bb3352f446a7e",
     "locked": false,
     "schema_version": 3,
     "solution": true,
     "task": false
    }
   },
   "outputs": [],
   "source": [
    "slice_axial='' #Slice con mayor area de higado en el eje axial\n",
    "area_axial='' #Mayor area de higado en eje axial\n",
    "# YOUR CODE HERE\n",
    "raise NotImplementedError()"
   ]
  },
  {
   "cell_type": "code",
   "execution_count": null,
   "id": "4c84c626",
   "metadata": {
    "deletable": false,
    "editable": false,
    "nbgrader": {
     "cell_type": "code",
     "checksum": "90b7d0ea7a7cc1329bce00a38e144037",
     "grade": true,
     "grade_id": "cell-e37b7df59d8eb0e6",
     "locked": true,
     "points": 0.1,
     "schema_version": 3,
     "solution": false,
     "task": false
    }
   },
   "outputs": [],
   "source": [
    "assert len(np.unique(seg_vol))==2, f'Las etiquetas del volumen de anotacion deben ser 2 y son {len(np.unique(segmen1))}, puede que haya guardado el volumen 1 en esta variable o no haya contado la etiqueta 1 y 2 como 1.'\n",
    "assert np.isclose(slice_axial,65,0.01), 'El eje mayor no es el encontrado. El eje axial es la ultima coordenada, la transversal es la segunda y la sagital es la primera'\n",
    "assert np.isclose(np.sum(seg_vol[:,:,slice_axial]>0)-area_axial,0), 'El area del higado guardado en la variable no es igual al slice de maxima area determinada'"
   ]
  },
  {
   "cell_type": "markdown",
   "id": "ee1e413f",
   "metadata": {
    "deletable": false,
    "editable": false,
    "nbgrader": {
     "cell_type": "markdown",
     "checksum": "dbdb3719724f1a443fd8e459f59e4390",
     "grade": false,
     "grade_id": "cell-45ede915851566ce",
     "locked": true,
     "schema_version": 3,
     "solution": false,
     "task": false
    }
   },
   "source": [
    "### Parte 2: Anotación\n",
    "El problema que queremos tratar es el de la segmentación del higado. La segmentación que realizaremos se basará directamente en las intensidades de nuestra imagen. Un punto a destacar es la diferencia que tenemos con la anterior base de datos, ahora no contamos con imagenes a color y muchos tegidos tendrán una intensidad similar a la de nuestro organo de interes.\n",
    "\n",
    "#### Parte 2.1: Histograma\n",
    "Usted cuenta con volumenes de anotación, si visualizó con cuidado sus anotaciones sabrá que son volumenes de etiquetas (0,1,2 aunque consideramos el 2 y el 1 como una misma etiqueta) Utilice este volumen de anotación para extraer el higado con sus intensidades originales. Posteriormente, realice un plot mostrando el organo y su histograma (no nos importan las intensidades de 0 porque son el fondo). Utilice el volumen original.nii y la segmentación segmentation.nii de la carpeta E1. Debe hacer el histograma para todo el higado, no solo una slice.\n",
    "\n",
    "> - **Pista:** Si su volumen de segmentación tiene valores de 0 o 1, si se multiplica cualquier valor por 0, este desaparecerá, y todo aquel voxel que pertenezca a la segmentación será multiplicado por 1 y conservará su intensidad original. Haga el histograma sin tener en cuenta el fondo."
   ]
  },
  {
   "cell_type": "code",
   "execution_count": null,
   "id": "290cdaf4",
   "metadata": {
    "deletable": false,
    "nbgrader": {
     "cell_type": "code",
     "checksum": "690d6bd153c9a82ff98f76ad5ece154c",
     "grade": false,
     "grade_id": "cell-802da64e7fab52b2",
     "locked": false,
     "schema_version": 3,
     "solution": true,
     "task": false
    }
   },
   "outputs": [],
   "source": [
    "Higado='' #volumen que contendrá solo el higado de la MRI\n",
    "# YOUR CODE HERE\n",
    "raise NotImplementedError()"
   ]
  },
  {
   "cell_type": "code",
   "execution_count": null,
   "id": "0a979456",
   "metadata": {
    "deletable": false,
    "editable": false,
    "nbgrader": {
     "cell_type": "code",
     "checksum": "1e404fab55f496e8235217a4ede2b064",
     "grade": true,
     "grade_id": "cell-3a10f074b299c437",
     "locked": true,
     "points": 0.2,
     "schema_version": 3,
     "solution": false,
     "task": false
    }
   },
   "outputs": [],
   "source": [
    "assert np.max(Higado)<=1.1, 'Seguramente su segmentación tiene la etiqueta 2'\n",
    "assert np.isclose(np.mean(Higado),0.025,0.1), f'El valor medio del organo es {np.mean(Higado)} y no deberia ser este, quizá esta normalizando o no está tomando todo el organo'"
   ]
  },
  {
   "cell_type": "markdown",
   "id": "48f99292",
   "metadata": {
    "deletable": false,
    "editable": false,
    "nbgrader": {
     "cell_type": "markdown",
     "checksum": "d76e1d046a8608ba802d453ae131823d",
     "grade": false,
     "grade_id": "cell-991a88fcee9d84b5",
     "locked": true,
     "schema_version": 3,
     "solution": false,
     "task": false
    }
   },
   "source": [
    "#### Parte 2.2: Ruido\n",
    "Un punto importante antes de realizar nuestro modelo de segmentación es el estado de las imagenes. Como utilizaremos las intesidades para realizar nuestra segmentación debemos asegurarnos que no tenemos ruido que afecte nuestras intensidades originales. \n",
    "\n",
    "Cargue los volumenes corruptos que se encuentran en la carpeta E1/corrupted_volumes y haga el mismo procedimeinto anterior. Haga un plot del higado segmentado corrupto y su respectivo histograma."
   ]
  },
  {
   "cell_type": "code",
   "execution_count": null,
   "id": "09237669",
   "metadata": {
    "deletable": false,
    "nbgrader": {
     "cell_type": "code",
     "checksum": "2b2360f855f23e13c4a07cab682cb893",
     "grade": false,
     "grade_id": "cell-e51009b1d437d2bc",
     "locked": false,
     "schema_version": 3,
     "solution": true,
     "task": false
    }
   },
   "outputs": [],
   "source": [
    "salt_peper='' #volumen con ruido de sal y pimienta\n",
    "gaussian='' #volumen con ruido gaussiano\n",
    "Higado_salt_peper='' #volumen que contendrá solo el higado de la MRI con ruido sal y pimienta\n",
    "Higado_gaussian='' #volumen que contendrá solo el higado de la MRI con ruido gaussiano\n",
    "\n",
    "# YOUR CODE HERE\n",
    "raise NotImplementedError()"
   ]
  },
  {
   "cell_type": "code",
   "execution_count": null,
   "id": "70c80d6f",
   "metadata": {
    "deletable": false,
    "editable": false,
    "nbgrader": {
     "cell_type": "code",
     "checksum": "74cf4208010e72ffa8fb6aef6fb75339",
     "grade": true,
     "grade_id": "cell-2e3e7c96b9bfd8a4",
     "locked": true,
     "points": 0.3,
     "schema_version": 3,
     "solution": false,
     "task": false
    }
   },
   "outputs": [],
   "source": [
    "assert np.max(Higado_salt_peper)<=1.1, 'Seguramente su segmentación tiene la etiqueta 2'\n",
    "assert np.isclose(np.sum(Higado_salt_peper!=0),497413,0.01), 'El volumen total del higado es incorrecto, no lo esta tomando todo'\n",
    "assert np.isclose(np.mean(Higado_salt_peper),0.023,0.1), f'El valor medio del organo es {np.mean(Higado)} y no deberia ser este, quizá esta normalizando o no está tomando todo el organo'\n",
    "\n",
    "assert np.max(Higado_gaussian)<=1.4, 'Seguramente su segmentación tiene la etiqueta 2'\n",
    "assert np.isclose(np.sum(Higado_gaussian!=0),552627,0.01), 'El volumen total del higado es incorrecto, no lo esta tomando todo'\n",
    "assert np.isclose(np.mean(Higado_gaussian),0.025,0.1), f'El valor medio del organo es {np.mean(Higado)} y no deberia ser este, quizá esta normalizando o no está tomando todo el organo'"
   ]
  },
  {
   "cell_type": "markdown",
   "id": "60c08187",
   "metadata": {
    "deletable": false,
    "editable": false,
    "nbgrader": {
     "cell_type": "markdown",
     "checksum": "ddc0e5c52baa0cbc93a686803c2f6b0c",
     "grade": false,
     "grade_id": "cell-dcc425c4e71b7471",
     "locked": true,
     "schema_version": 3,
     "solution": false,
     "task": false
    }
   },
   "source": [
    "### Parte 3: Remoción de ruido\n",
    "Una parte importante a la hora de resolver problemas de vision por computador es el preprocesamiento. El ruido puede tener diversas fuentes y puede corromper la imagen de diferentes formas. Es nuestro trabajo manipular las imagenes de tal forma que sean más faciles de procesar por nuestro algoritmo de predicción. Es tambien muy importante hacer un diseño exhaustivo del procedimiento de filtrado que realizaremos, ya que no todos los filtros nos ayudaran a el procesamiento de las imagenes. Algunos filtros son muy especializados en el tipo de ruido que logrará filtrar, algunos filtros pueden magnificar el ruido o incluso dañar la imagen.\n",
    "\n",
    "#### Parte 3.1: Filtrado lineal\n",
    "\n",
    "Una primera idea puede ser el uso de la cross correlacion para el trabajo del filtrado. Use la función de scipy.signal.correlate y diseñe un filtro medio 3x3. Tambien use la función scipy.ndimage.gaussian_filter para hacer un filtro gaussiano y experimente con el sigma para obtener mejores resultados. Lea los dos volumenes de E1/corrupted_volumes, extraiga el slice axial encontrado en el punto 1 y use estos filtros, guarde los resultados en variables. Haga un subplot de 4 filas y 3 columnas, en las filas iran los diferentes ruidos con los diferentes filtros (ruido gaussiano con filtro medio, ruido gaussiano con filtro gaussiano, etc.) y en las columnas la imagen original (solo el higado), la imagen procesada y el histograma de la imagen procesada.\n",
    "\n",
    "> - **Nota:** Procese las imagenes orignales y luego si extraiga unicamente el higado, no lo haga al reves. Use el parametro \"same\" para mantener el tamaño de la imagen original."
   ]
  },
  {
   "cell_type": "code",
   "execution_count": null,
   "id": "8b400648",
   "metadata": {
    "deletable": false,
    "nbgrader": {
     "cell_type": "code",
     "checksum": "52d4a37b21a5d11c94f0506b5ffa366a",
     "grade": false,
     "grade_id": "cell-73f9d0e6f35329b3",
     "locked": false,
     "schema_version": 3,
     "solution": true,
     "task": false
    }
   },
   "outputs": [],
   "source": [
    "salt_peper_axial='' #slice del volumen con ruido sal y pimienta\n",
    "gaussian_axial='' #slice del volumen con ruido gaussiano\n",
    "\n",
    "media_filter='' #arreglo ndarray del filtro medio\n",
    "\n",
    "media_salt_peper='' #slice de ruido sal y pimienta filtrado con filtro medio\n",
    "gaussian_salt_peper='' #slice de ruido sal y pimienta filtrado con filtro gaussiano, sigma 3\n",
    "media_gaussian='' #slice de ruido gaussiano filtrado con filtro medio\n",
    "gaussian_gaussian='' #slice de ruido gaussiano filtrado con filtro gaussiano, sigma 3\n",
    "\n",
    "gaussian_salt_peper_higado='' #slice de ruido sal y pimienta filtrado con filtro gaussiano solo del higado\n",
    "gaussian_gaussian_higado='' #slice de ruido gaussiano filtrado con filtro gaussiano solo del higado\n",
    "media_salt_peper_higado='' #slice de ruido sal y pimienta filtrado con filtro medio solo del higado\n",
    "media_gaussian='' #slice de ruido gaussiano filtrado con filtro medio solo del higado\n",
    "\n",
    "# YOUR CODE HERE\n",
    "raise NotImplementedError()"
   ]
  },
  {
   "cell_type": "code",
   "execution_count": null,
   "id": "25f6ebf2",
   "metadata": {
    "deletable": false,
    "editable": false,
    "nbgrader": {
     "cell_type": "code",
     "checksum": "77c9c5549a765cadd81a896f1d2a8216",
     "grade": true,
     "grade_id": "cell-03eb68701d71bcc4",
     "locked": true,
     "points": 0.1,
     "schema_version": 3,
     "solution": false,
     "task": false
    }
   },
   "outputs": [],
   "source": [
    "assert np.sum(media_filter)==1, 'La suma de todos los elementos del filtro deben sumar 1'\n",
    "assert np.sum(media_filter==1/9)==9, 'Su filtro medio esta mal construido'\n",
    "x,y=gaussian_salt_peper_higado.shape\n",
    "x2,y2=salt_peper_axial.shape\n",
    "assert x==x2 and y==y2, 'La imagen filtrada debe ser del mismo tamaño de la imagen original'"
   ]
  },
  {
   "cell_type": "markdown",
   "id": "1bdf8fac",
   "metadata": {
    "deletable": false,
    "editable": false,
    "nbgrader": {
     "cell_type": "markdown",
     "checksum": "a360bb202700e963d7fbb43e9dd9db66",
     "grade": false,
     "grade_id": "cell-2f17b720416ac25b",
     "locked": true,
     "schema_version": 3,
     "solution": false,
     "task": false
    }
   },
   "source": [
    "#### Parte 3.2: Filtrado no lineal\n",
    "El filtrado lineal nos es muy util para obtener caracteristicas visuales de las imagenes y tambien para reducir cierto tipo de ruido. Sin embargo, pudieron observar cualitativamente las limitaciones de este tipo de filtrado. Una idea interesante puede ser el uso de filtrado no lineal para la eliminación de ruido y menor destrucción de la imagen original. Use los filtros maximo, minimo, mediano y mediano adaptativo para remover el ruido de las imagenes del anterior punto (puede usar la implementación del tutorial) haga una función que pueda hacer todos estos filtros segun se indique por parametro, tome en cuenta la condición de frontera como 0s. Haga un subplot de 2 filas 5 columnas, donde las filas son los diferentes ruidos y las columnas son la imagen original y los 4 tipos de filtros."
   ]
  },
  {
   "cell_type": "code",
   "execution_count": null,
   "id": "19365924",
   "metadata": {
    "deletable": false,
    "nbgrader": {
     "cell_type": "code",
     "checksum": "46d8dff38345e4d5bd7c6de3ab3c6d9d",
     "grade": false,
     "grade_id": "cell-f44b24c9bc8759d3",
     "locked": false,
     "schema_version": 3,
     "solution": true,
     "task": false
    }
   },
   "outputs": [],
   "source": [
    "def No_linear_filter(Im,filter_type,window,max_window=3):\n",
    "    '''\n",
    "    :param Im: Imagen oringinal.\n",
    "    :param filter_type: parametro que determina el tipo de filtrado a usar. \n",
    "                    Puede tomar de valores: 'min','max', 'median' or 'median_adapt'\n",
    "    :param window: Tamaño de la ventana de analisis.\n",
    "    :param max_window: Maximo tamaño de la ventana si se esta haciendo un filtro mediano adaptativo.\n",
    "    '''\n",
    "    # YOUR CODE HERE\n",
    "    raise NotImplementedError()\n",
    "    return new_image"
   ]
  },
  {
   "cell_type": "code",
   "execution_count": null,
   "id": "b3d0992b",
   "metadata": {
    "deletable": false,
    "editable": false,
    "nbgrader": {
     "cell_type": "code",
     "checksum": "f5f6c23f29c58813f8e02dbc88da913b",
     "grade": false,
     "grade_id": "cell-8f0cdc71e99cb067",
     "locked": true,
     "schema_version": 3,
     "solution": false,
     "task": false
    }
   },
   "outputs": [],
   "source": [
    "Max_salt_peper=No_linear_filter(salt_peper_axial,'max',3)\n",
    "Min_salt_peper=No_linear_filter(salt_peper_axial,'min',3)\n",
    "Median_salt_peper=No_linear_filter(salt_peper_axial,'median',3)\n",
    "MedianAdapt_salt_peper=No_linear_filter(salt_peper_axial,'median_adapt',3,11)\n",
    "\n",
    "Max_gaussian=No_linear_filter(gaussian_axial,'max',3)\n",
    "Min_gaussian=No_linear_filter(gaussian_axial,'min',3)\n",
    "Median_gaussian=No_linear_filter(gaussian_axial,'median',3)\n",
    "MedianAdapt_gaussian=No_linear_filter(gaussian_axial,'median_adapt',3,11)"
   ]
  },
  {
   "cell_type": "markdown",
   "id": "b4281e01",
   "metadata": {
    "deletable": false,
    "editable": false,
    "nbgrader": {
     "cell_type": "markdown",
     "checksum": "957f4bec0d0e6ab5c27a23683f3f883b",
     "grade": false,
     "grade_id": "cell-6ab66e0c9cc6b10f",
     "locked": true,
     "schema_version": 3,
     "solution": false,
     "task": false
    }
   },
   "source": [
    "#### Parte 3.3 Evaluación cuantitativa\n",
    "\n",
    "Hemos podido experimentar con los diferentes filtros que tenemos a nuestra disposición obteniendo resultados mejores o peores. La comparación que hemos podido tener es meramente cualitativa, sin embargo, contamos con una herramienta que nos permite saber que tan eficaz ha sido nuestro filtrado, el PSNR. Cree una función que entre como parametro 2 imagenes de un solo canal y retorne su PSNR. Considere el maximo de la imagen como 1."
   ]
  },
  {
   "cell_type": "code",
   "execution_count": null,
   "id": "ea265edc",
   "metadata": {
    "deletable": false,
    "nbgrader": {
     "cell_type": "code",
     "checksum": "1d38c3dd2cc09e4844ad6463e0892c1a",
     "grade": false,
     "grade_id": "cell-14e1dc8dbf5bfc95",
     "locked": false,
     "schema_version": 3,
     "solution": true,
     "task": false
    }
   },
   "outputs": [],
   "source": [
    "original='' #slice del volumen original sin ruido\n",
    "# YOUR CODE HERE\n",
    "raise NotImplementedError()"
   ]
  },
  {
   "cell_type": "code",
   "execution_count": null,
   "id": "7224e723",
   "metadata": {
    "deletable": false,
    "nbgrader": {
     "cell_type": "code",
     "checksum": "25697e397fb96e7c0f3c73563f2ee06c",
     "grade": false,
     "grade_id": "cell-43380e2b29a21a51",
     "locked": false,
     "schema_version": 3,
     "solution": true,
     "task": false
    }
   },
   "outputs": [],
   "source": [
    "def PSNR(Im,Filtered):\n",
    "    '''\n",
    "    :param Im: Imagen oringinal.\n",
    "    :param Filtered: Imagen filtrada.\n",
    "    '''\n",
    "    # YOUR CODE HERE\n",
    "    raise NotImplementedError()\n",
    "    return result"
   ]
  },
  {
   "cell_type": "code",
   "execution_count": null,
   "id": "3f619ff6",
   "metadata": {
    "deletable": false,
    "editable": false,
    "nbgrader": {
     "cell_type": "code",
     "checksum": "3d2fad82b358f837336a2779e786df3f",
     "grade": false,
     "grade_id": "cell-4999dc8919e055f1",
     "locked": true,
     "schema_version": 3,
     "solution": false,
     "task": false
    }
   },
   "outputs": [],
   "source": [
    "Value_salt_peper_media=PSNR(original,media_salt_peper)\n",
    "Value_salt_peper_gaussian=PSNR(original,gaussian_salt_peper)\n",
    "Value_salt_peper_max=PSNR(original,Max_salt_peper)\n",
    "Value_salt_peper_min=PSNR(original,Min_salt_peper)\n",
    "Value_salt_peper_median=PSNR(original,Median_salt_peper)\n",
    "Value_salt_peper_medianAdapt=PSNR(original,MedianAdapt_salt_peper)\n",
    "\n",
    "Value_gaussian_media=PSNR(original,media_gaussian)\n",
    "Value_gaussian_gaussian=PSNR(original,gaussian_gaussian)\n",
    "Value_gaussian_max=PSNR(original,Max_gaussian)\n",
    "Value_gaussian_min=PSNR(original,Min_gaussian)\n",
    "Value_gaussian_median=PSNR(original,Median_gaussian)\n",
    "Value_gaussian_medianAdapt=PSNR(original,MedianAdapt_gaussian)"
   ]
  },
  {
   "cell_type": "code",
   "execution_count": null,
   "id": "136d8a01",
   "metadata": {
    "deletable": false,
    "editable": false,
    "nbgrader": {
     "cell_type": "code",
     "checksum": "dd6e2d2432ee58352adcb7948dd85d6d",
     "grade": true,
     "grade_id": "cell-f472dd5e541ef933",
     "locked": true,
     "points": 0.4,
     "schema_version": 3,
     "solution": false,
     "task": false
    }
   },
   "outputs": [],
   "source": [
    "arreglo=np.arange(0,9).reshape((3,3))\n",
    "assert np.isclose(PSNR(arreglo,arreglo[::-1]),-13.80,0.1), f'Su función de PSNR no funciona como debería, el PSNR de esta muestra debería ser 34.32 y es {PSNR(arreglo,arreglo[::-1])}'\n",
    "assert Value_salt_peper_median>Value_salt_peper_media, 'El filtro mediano en sal y pimienta no es el mejor filtro'\n",
    "assert Value_gaussian_median>Value_gaussian_max, 'El filtro mediano en ruido gaussiano no es el mejor filtro'\n",
    "assert Value_gaussian_median>Value_gaussian_medianAdapt, 'El filtro mediano en ruido gaussiano no es el mejor filtro'\n",
    "\n",
    "assert np.isclose(Value_salt_peper_media,18.06,0.1), 'Filtro mal su volumen de sal y pimienta con el filtro medio'\n",
    "assert np.isclose(Value_salt_peper_gaussian,19.76,0.1), 'Filtro mal su volumen de sal y pimienta con el filtro gaussiano'\n",
    "assert np.isclose(Value_salt_peper_max,4.12,0.1), 'Filtro mal su volumen de sal y pimienta con el filtro maximo'\n",
    "assert np.isclose(Value_salt_peper_median,27.94,0.1), 'Filtro mal su volumen de sal y pimienta con el filtro mediano'\n",
    "assert np.isclose(Value_gaussian_median,26.61,0.1), 'Filtro mal su volumen gaussiano con el filtro mediano'\n",
    "assert np.isclose(Value_salt_peper_medianAdapt,32.38,0.1), 'Filtro mal su volumen sal y pimienta con el filtro mediano adaptativo'"
   ]
  },
  {
   "cell_type": "markdown",
   "id": "f0418a4d",
   "metadata": {
    "deletable": false,
    "editable": false,
    "nbgrader": {
     "cell_type": "markdown",
     "checksum": "1aae137f92244b4d765eeb6e15918f4a",
     "grade": false,
     "grade_id": "cell-d918f6a5fc15b94d",
     "locked": true,
     "schema_version": 3,
     "solution": false,
     "task": false
    }
   },
   "source": [
    "### Parte 4: Segmentación\n",
    "Ahora, determinaremos cual será nuestro baseline este miniproyecto para segmentar el higado. Lo primero que debemos determinar será nuestra metodología de evaluación."
   ]
  },
  {
   "cell_type": "markdown",
   "id": "cb7724e7",
   "metadata": {
    "deletable": false,
    "editable": false,
    "nbgrader": {
     "cell_type": "markdown",
     "checksum": "461560384fd2ab4c83ee3fc017f7bc7d",
     "grade": false,
     "grade_id": "cell-f879b1c9dce368bb",
     "locked": true,
     "schema_version": 3,
     "solution": false,
     "task": false
    }
   },
   "source": [
    "#### Parte 4.1: Jaccard 3D\n",
    "Nuestra segmentación no es una imagen binaria, recuerde que estamos tratando con volumenes. En esta ocasión tendremos un volumen de segmentación. El cambio de output y de groundtruth requiere un cambio de métrica de evaluación, ya no podemos usar un Jaccard en 2D como siempre hemos hecho, tampoco podemos hacer un promedio de Jaccards en 2D. Implemente una función de Jaccard 3D que ingrese como parametro el volumen de predicción y el volumen de groundtruth y retorne el indice de Jaccard.\n",
    "\n",
    "> **Recuerde:** La segmentación de groundtruth tiene 3 diferentes labels, usted quiere una segmentación binaria. Considere el label 1 y 2 como uno mismo.\n",
    "\n",
    "Cree una función que retorne la precisión, la cobertura y la F-medida dado un volumen de predicción y uno de anotación. Tenga en cuenta los problemas con la división entre 0 (tome epsilon como 1x10^-6)"
   ]
  },
  {
   "cell_type": "code",
   "execution_count": null,
   "id": "9fc56b13",
   "metadata": {
    "deletable": false,
    "nbgrader": {
     "cell_type": "code",
     "checksum": "00e46acf56287ea24cac4e92204e5014",
     "grade": false,
     "grade_id": "cell-ac36f0ee7b5d04e6",
     "locked": false,
     "schema_version": 3,
     "solution": true,
     "task": false
    }
   },
   "outputs": [],
   "source": [
    "def Jaccard_3D(Im,Gt):\n",
    "    '''\n",
    "    :param Im: Volumen de prediccion.\n",
    "    :param Gt: Segmentacion groundtruth.\n",
    "    '''\n",
    "    # YOUR CODE HERE\n",
    "    raise NotImplementedError()\n",
    "    return J\n",
    "\n",
    "def P_C_F_3D(Im,Gt):\n",
    "    '''\n",
    "    :param Im: Volumen de prediccion.\n",
    "    :param Gt: Segmentacion groundtruth.\n",
    "    '''\n",
    "    # YOUR CODE HERE\n",
    "    raise NotImplementedError()\n",
    "    return Precision,Recall,Fscore"
   ]
  },
  {
   "cell_type": "code",
   "execution_count": null,
   "id": "dc8d4416",
   "metadata": {
    "deletable": false,
    "editable": false,
    "nbgrader": {
     "cell_type": "code",
     "checksum": "24a09a5fd95b1a925b267a470310ea89",
     "grade": true,
     "grade_id": "cell-0e876058ee00d6bd",
     "locked": true,
     "points": 0.4,
     "schema_version": 3,
     "solution": false,
     "task": false
    }
   },
   "outputs": [],
   "source": [
    "assert np.isclose(Jaccard_3D(original_vol>0.8,seg_vol),0.35,0.01), 'El Jaccard 3D no da los resultados que debe, recuerde que no es lo mismo que un Jaccard 2D promediado'\n",
    "P,C,F=P_C_F_3D(original_vol>0.8,seg_vol)\n",
    "assert P<C, 'La precisión debe ser menor que la cobertura'\n",
    "assert F<C and F>P, 'La F medida debe ser menor que la cobertura y mayor que la precisión'\n",
    "assert np.isclose(F,0.52,0.1), 'La F medida esta mal calculada'"
   ]
  },
  {
   "cell_type": "markdown",
   "id": "8cbd4e50",
   "metadata": {
    "deletable": false,
    "editable": false,
    "nbgrader": {
     "cell_type": "markdown",
     "checksum": "1ad7a95ddcb4ba637695f504a175b796",
     "grade": false,
     "grade_id": "cell-fc539d87e16f5806",
     "locked": true,
     "schema_version": 3,
     "solution": false,
     "task": false
    }
   },
   "source": [
    "#### Parte 4.2: Elemento conexo\n",
    "La metodología que utilizaremos para segmentar se basará en las intensidades, sin embargo, muchos tejidos tienen intensidades similares a nuestro organo de interes, lo que resulta en muchos falsos positivos. La idea será umbralizar nuestro volumen, posteriormente nos quedaremos con el componente conexo más grande. Cree una función que reciba como parametro una imagen 2D, la umbralice con un umbral que entre por parametro y retorne la mascara binaria con el elemento conexo mayor.\n",
    "\n",
    "> - Para determinar el mayor elemento conexo, use skimage.measure.label. Esta función le dará una label a cada elemento conexo, es decir que cambiará su intensidad por un numero de 1 a N siendo N la cantidad de elementos conexos. Puede usar np.sum junto con algun operador logico para determinar el area de cada elemento conexo. La mayor label no necesariamente es el mayor elemento conexo. El fondo es el mayor elemento conexo, no lo tenga en cuenta!"
   ]
  },
  {
   "cell_type": "code",
   "execution_count": null,
   "id": "acabe607",
   "metadata": {
    "deletable": false,
    "nbgrader": {
     "cell_type": "code",
     "checksum": "8b159eaf4a66b4daf92ecfb9f298ba89",
     "grade": false,
     "grade_id": "cell-c4ea9649e8963f87",
     "locked": false,
     "schema_version": 3,
     "solution": true,
     "task": false
    }
   },
   "outputs": [],
   "source": [
    "from skimage.measure import label\n",
    "\n",
    "def max_component(Im,umbral,operador):\n",
    "    'Im (ndarray): Imagen a segmentar'\n",
    "    'umbral (float): Umbral a utilizar'\n",
    "    'operador (str): Puede ser \"mayor\" para > o \"menor\" para < segun se quiera umbralizar'\n",
    "    # YOUR CODE HERE\n",
    "    raise NotImplementedError()\n",
    "    return max_comp"
   ]
  },
  {
   "cell_type": "code",
   "execution_count": null,
   "id": "783e9471",
   "metadata": {
    "deletable": false,
    "editable": false,
    "nbgrader": {
     "cell_type": "code",
     "checksum": "90a61d4d98bf6133d91387fab7887fe7",
     "grade": true,
     "grade_id": "cell-7d4f8ab2f485e83e",
     "locked": true,
     "points": 0.3,
     "schema_version": 3,
     "solution": false,
     "task": false
    }
   },
   "outputs": [],
   "source": [
    "higado_umbral=original_vol[:,:,65]>0.8\n",
    "higado_seg=max_component(original_vol[:,:,65],0.8,'mayor')\n",
    "               \n",
    "fig,ax=plt.subplots(1,2)\n",
    "ax[1].imshow(higado_umbral)\n",
    "ax[1].axis('off')\n",
    "ax[0].set_title('Maximo componente conexo')\n",
    "ax[0].imshow(higado_seg)\n",
    "ax[0].axis('off')\n",
    "ax[1].set_title('Umbralización 0.8')\n",
    "plt.show()\n",
    "\n",
    "assert np.sum((1-higado_umbral)*higado_seg)==0, 'Usted segmentó el fondo'\n",
    "assert np.isclose(np.sum(higado_seg),34863,0.01), 'El elemento conexo segmentado no es el maximo'"
   ]
  },
  {
   "cell_type": "markdown",
   "id": "6bebdb35",
   "metadata": {
    "deletable": false,
    "editable": false,
    "nbgrader": {
     "cell_type": "markdown",
     "checksum": "9303b101f7bb247fb5393d3b455a3555",
     "grade": false,
     "grade_id": "cell-d6d42852205bf304",
     "locked": true,
     "schema_version": 3,
     "solution": false,
     "task": false
    }
   },
   "source": [
    "Ahora, cree una función que entre como parametro un volumen completo y segmente slice por slice (recorrido axial) usando la función max_component realizada anteriormente. "
   ]
  },
  {
   "cell_type": "code",
   "execution_count": null,
   "id": "f22f8f0b",
   "metadata": {
    "deletable": false,
    "nbgrader": {
     "cell_type": "code",
     "checksum": "e1da051c07e22612b24d68495edbb87c",
     "grade": false,
     "grade_id": "cell-1bd2c80529d427d0",
     "locked": false,
     "schema_version": 3,
     "solution": true,
     "task": false
    }
   },
   "outputs": [],
   "source": [
    "def Vol2D_max_component(Vol,umbral,operador):\n",
    "    # YOUR CODE HERE\n",
    "    raise NotImplementedError()\n",
    "    return segmentacion"
   ]
  },
  {
   "cell_type": "code",
   "execution_count": null,
   "id": "7ce2d612",
   "metadata": {
    "deletable": false,
    "editable": false,
    "nbgrader": {
     "cell_type": "code",
     "checksum": "182649188ce809a10ac785e144fa4088",
     "grade": true,
     "grade_id": "cell-8cc9ba37b2ac4bc4",
     "locked": true,
     "points": 0.3,
     "schema_version": 3,
     "solution": false,
     "task": false
    }
   },
   "outputs": [],
   "source": [
    "higado_seg_new=Vol2D_max_component(original_vol,0.8,'mayor')\n",
    "               \n",
    "fig,ax=plt.subplots(1,3)\n",
    "ax[2].imshow(higado_seg_new[:,:,65])\n",
    "ax[2].axis('off')\n",
    "ax[2].set_title('Slice 65')\n",
    "ax[0].imshow(higado_seg_new[:,:,40])\n",
    "ax[0].axis('off')\n",
    "ax[0].set_title('Slice 40')\n",
    "ax[1].imshow(higado_seg_new[:,:,55])\n",
    "ax[1].axis('off')\n",
    "ax[1].set_title('Slice 55')\n",
    "plt.show()\n",
    "\n",
    "assert not np.sum(higado_seg_new[:,:,65]-higado_seg), 'La segmentacion del volumen en el slice 65 debe ser igual a la segmentación independiente del slice'\n",
    "assert np.isclose(Jaccard_3D(higado_seg_new,seg_vol),0.62,0.05), 'La segmentación de todo el volumen fue erronea'"
   ]
  },
  {
   "cell_type": "markdown",
   "id": "eef0c36a",
   "metadata": {
    "deletable": false,
    "editable": false,
    "nbgrader": {
     "cell_type": "markdown",
     "checksum": "242d408e474f302ffb6c7167db3e6315",
     "grade": false,
     "grade_id": "cell-541060b5a06175be",
     "locked": true,
     "schema_version": 3,
     "solution": false,
     "task": false
    }
   },
   "source": [
    "Utilizando esta metodología de segmentación, encuentre el mejor umbral para obtener la mejor segmentación posible. Pongalo en su reporte junto con algunos ejemplos buenos y malos de su implementación. Busque las partes donde el higado se segmenta bien y partes donde no se segmenta el higado."
   ]
  },
  {
   "cell_type": "code",
   "execution_count": null,
   "id": "271a0927",
   "metadata": {},
   "outputs": [],
   "source": []
  },
  {
   "cell_type": "markdown",
   "id": "de496b1c",
   "metadata": {
    "deletable": false,
    "editable": false,
    "nbgrader": {
     "cell_type": "markdown",
     "checksum": "f68b958064c8e66a6fdad83ad11213db",
     "grade": false,
     "grade_id": "cell-6488ff67f8f3738f",
     "locked": true,
     "schema_version": 3,
     "solution": false,
     "task": false
    }
   },
   "source": [
    "### Parte 5: Visualización de errores\n",
    "Antes de realizar cualquier pre-procesamiento es importante entender nuestras imagenes y las limitaciones de nuestro modelo para poder diseñar una metodología eficaz que mejore nuestros resultados y no nos resulte perjudicial. Tampoco nos funcionará realizar una metodología de pre-procesamiento a ciegas, siempre es importante comprender nuestro modelo y nuestras imagenes para no solo diseñar un metodo que nos funcione en una base de datos en especifico, sino que sea los mas generalizable posible. \n",
    "\n",
    "\n",
    "Cargue el volumen segmentation-1.nii y el volumen volume-1.nii de la base de datos de entrenamiento, luego utilice la función de umbralización creada en la entrega anterior para generar una predicción. Por ultimo, visualize las estructuras de el **volumen original** que usted esta segmentando con su algoritmo. Haga una función que cree 2 volumenes adicionales, uno que contenga unicamente los pixeles falsos positivos y otro que contenga unicamente los pixeles falsos negativos. Para el subplot encuentre en cada volumen los slices (axial, transversal y sagital) con mayor cantidad de errores.\n",
    "\n",
    "> **Nota:** Recuerde que los FP serán aquellos pixeles que se encuentran en su prediccion pero no en su groundtruth. Los FN serán los pixeles que se encuentran en su groundtruth pero no en su predicción."
   ]
  },
  {
   "cell_type": "code",
   "execution_count": null,
   "id": "82252073",
   "metadata": {
    "deletable": false,
    "nbgrader": {
     "cell_type": "code",
     "checksum": "f8d2525aed0d78c9bbacf248b8772366",
     "grade": false,
     "grade_id": "cell-0a370a4b035a403c",
     "locked": false,
     "schema_version": 3,
     "solution": true,
     "task": false
    }
   },
   "outputs": [],
   "source": [
    "import nibabel as nib\n",
    "from matplotlib import pyplot as plt\n",
    "import numpy as np\n",
    "import os\n",
    "from skimage.exposure import equalize_hist,match_histograms\n",
    "from skimage.filters import threshold_otsu as otsu\n",
    "import cv2\n",
    "from skimage.measure import label\n",
    "\n",
    "volume1='' #volumen 1 de entrenamiento\n",
    "segmen1='' #segmentacion del volumen 1 de entrenamiento, groundtruth\n",
    "segment_pred='' #volumen de prediccion de su algoritmo\n",
    "FN_volumes='' #volumen unicamente con pixeles Falsos Negativos\n",
    "FP_volumes='' #volumen unicamente con pixeles Falsos Positivos\n",
    "\n",
    "def errores(segment_pred,segmen1):\n",
    "    'segment_pred (ndarray): volumen de predicción'\n",
    "    'segmen1 (ndarray): volumen de groundtruth'\n",
    "    # YOUR CODE HERE\n",
    "    raise NotImplementedError()\n",
    "    return FP_volumes,FN_volumes\n",
    "    \n",
    "# YOUR CODE HERE\n",
    "raise NotImplementedError()"
   ]
  },
  {
   "cell_type": "code",
   "execution_count": null,
   "id": "961cd0bb",
   "metadata": {
    "deletable": false,
    "editable": false,
    "nbgrader": {
     "cell_type": "code",
     "checksum": "9b6e09932966e0342ac834bc56b28789",
     "grade": true,
     "grade_id": "cell-79264a30db6c2d76",
     "locked": true,
     "points": 0.1,
     "schema_version": 3,
     "solution": false,
     "task": false
    }
   },
   "outputs": [],
   "source": [
    "aux_segment=Vol2D_max_component(volume1,0.8,'mayor')\n",
    "fp,fn=errores(aux_segment,segmen1)\n",
    "assert np.isclose(np.sum(fp),663620, 0.01), f'La cantidad de FP deberian ser 311520 y son {np.sum(fp)}'\n",
    "assert np.isclose(np.sum(fn),33182, 0.01), f'La cantidad de FN deberian ser 16517 y son {np.sum(fn)}'"
   ]
  },
  {
   "cell_type": "code",
   "execution_count": null,
   "id": "23e32d4b",
   "metadata": {},
   "outputs": [],
   "source": []
  },
  {
   "cell_type": "markdown",
   "id": "19ac382b",
   "metadata": {
    "deletable": false,
    "editable": false,
    "nbgrader": {
     "cell_type": "markdown",
     "checksum": "0c93d28be7353c7b60009621b4969c5f",
     "grade": false,
     "grade_id": "cell-bdfe5b889e2bfcb0",
     "locked": true,
     "schema_version": 3,
     "solution": false,
     "task": false
    }
   },
   "source": [
    "## Informe:\n",
    "En esta ocasión, no responderemos unicamente las preguntas sino que comenzaremos a familiarizarnos con la estructura de un informe de visión por computador. En este miniproyecto debe hacer un informe con Introducción, Resultados y Conclusiones respondiendo las preguntas en las secciones donde usted crea pertinente responderlas. \n",
    "\n",
    "### Exploración de base de datos:\n",
    "Posteriormente, vamos a utilizar una base de datos que se compone de 3 volumes en train, 1 volumen en valid y 1 volumen en test. Basandonos en esto responda, dentro del informe, las siguientes preguntas:\n",
    "* ¿Puede afirmar que este problema de segmentación es un problema desbalanceado? ¿Cómo puede afectar esto en nuestra metodología de segmentación?\n",
    "* Teniendo en cuenta la cantidad de datos ¿Cree usted que un analisis pixel a pixel es eficiente para realizar una segmentación de todos nuestros datos?\n",
    "* ¿Tiene sentido intentar balancear la base de datos?\n",
    "\n",
    "### Anotación\n",
    "* ¿Que particularidad observa entre los histogramas de los volumenes corruptos, el volumen filtrado y el volumen original?\n",
    "* Teniendo en cuenta los histogramas, que umbrales escogeria en cada caso (volumen original y volumen corrupto) Justifique su respuesta y diga las posibles limitaciones.\n",
    "\n",
    "### Remoción de ruido:\n",
    "* ¿Que tipo de ruido es más comun en las imagenes medicas?\n",
    "* ¿Cuales filtros dañaron más su imagen? ¿Por que sucede esto?\n",
    "* ¿Cree usted que el filtrado gaussiano o filtro medio afectará su segmentación? Responda teniendo en cuenta nuestra metodología de segmentación y las caracteristicas del filtro.\n",
    "\n",
    "### Segmentación:\n",
    "* ¿Porque la metrica de Jaccard 3D no es igual que la de Jaccard 2D promediado? De una explicación matemática.\n",
    "* Teniendo en cuenta las metricas de Jaccard 3D y la precisión y cobertura responda ¿Porque es necesario establecer una métrica de evaluación acorde a nuestro probelma principal? ¿Son estas 2 métricas compatibles? Conteste esta pregunta teniendo en cuenta el desbalance de datos.\n",
    "* ¿Que organos o estructuras del cuerpo son problematicas para nuestra metodología de segmentación?\n",
    "\n",
    "### Visualización de errores\n",
    "* ¿Que estructuras en la MRI son las mas problematicas para nuestra segmentación?\n",
    "* ¿Cómo se pueden mejorar los resultados obtenidos mediante una umbralización pura?"
   ]
  },
  {
   "cell_type": "code",
   "execution_count": null,
   "id": "a71dd530",
   "metadata": {},
   "outputs": [],
   "source": []
  }
 ],
 "metadata": {
  "kernelspec": {
   "display_name": "Python 3 (ipykernel)",
   "language": "python",
   "name": "python3"
  },
  "language_info": {
   "codemirror_mode": {
    "name": "ipython",
    "version": 3
   },
   "file_extension": ".py",
   "mimetype": "text/x-python",
   "name": "python",
   "nbconvert_exporter": "python",
   "pygments_lexer": "ipython3",
   "version": "3.11.3"
  }
 },
 "nbformat": 4,
 "nbformat_minor": 5
}
